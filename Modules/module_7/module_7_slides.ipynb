{
 "cells": [
  {
   "cell_type": "markdown",
   "metadata": {
    "slideshow": {
     "slide_type": "slide"
    }
   },
   "source": [
    "# Session 7: Web Scraping 2, HTML and parsing\n",
    "\n",
    "*Hjalte Fejerskov Boas*"
   ]
  },
  {
   "cell_type": "markdown",
   "metadata": {
    "slideshow": {
     "slide_type": "slide"
    }
   },
   "source": [
    "## Recap\n",
    "\n",
    "Recall the different steps in web scraping:\n",
    "1. Mapping (session 6):\n",
    "    - We learned how to use the structure of the URL to go through all the webpages you want to scrape\n",
    "2. Downloading (session 6):\n",
    "    - We learned how to download the HTML code of webpages\n",
    "    - We learned how to use the network panel to download data directly from the webpage's server\n",
    "3. Parsing (this session)\n",
    "\n",
    "In this session we will learn how to parse the downloaded HTML into meaningful and structured data"
   ]
  },
  {
   "cell_type": "markdown",
   "metadata": {
    "slideshow": {
     "slide_type": "slide"
    }
   },
   "source": [
    "## Required readings\n",
    "\n",
    "- [Beautiful Soup: Build a Web Scraper With Python](https://realpython.com/beautiful-soup-web-scraper-python/)\n",
    "\n",
    "- [A Practical Introduction to Web Scraping in Python](https://realpython.com/python-web-scraping-practical-introduction/)"
   ]
  },
  {
   "cell_type": "markdown",
   "metadata": {
    "slideshow": {
     "slide_type": "slide"
    }
   },
   "source": [
    "# Overview of Session 7\n",
    "\n",
    "1. What is HTML?\n",
    "    - How does the tree structure work?\n",
    "2. How can we find our way in the HTML code? I.e. find the data we need (parse the HTML)\n",
    "    - Regex\n",
    "    - CSS selectors\n",
    "    - BeautifulSoup\n",
    "        - Today we will mainly spend time on BeautifulSoup"
   ]
  },
  {
   "cell_type": "markdown",
   "metadata": {
    "slideshow": {
     "slide_type": "slide"
    }
   },
   "source": [
    "## Introduction to HTML"
   ]
  },
  {
   "cell_type": "markdown",
   "metadata": {
    "slideshow": {
     "slide_type": "fragment"
    }
   },
   "source": [
    "### Recall from previous session\n",
    "\n",
    "How a human sees a webpage             |  How a computer sees a webpage (**HTML**)\n",
    ":-------------------------:|:-------------------------:\n",
    "![](https://drive.google.com/thumbnail?id=1cbrC303j-gQnXbXyTEQBPT2xH7kgz6Cy&sz=w1000)  |  ![](https://drive.google.com/thumbnail?id=1VFlfDcJHCzbtmkpr4kvXzGecrDE7KmLY&sz=w1000)"
   ]
  },
  {
   "cell_type": "markdown",
   "metadata": {
    "slideshow": {
     "slide_type": "subslide"
    }
   },
   "source": [
    "## [What is HTML?](https://www.w3schools.com/html/html_intro.asp)  \n",
    "\n",
    "HTML(Hyper Text Markup Language) is the standard language for creating webpages"
   ]
  },
  {
   "cell_type": "markdown",
   "metadata": {
    "slideshow": {
     "slide_type": "fragment"
    }
   },
   "source": [
    "### HTML elements and tags\n",
    "\n",
    "HTML consists of different elements: These elements tell your browser what to display and how to display it\n",
    "\n",
    "An HTML element consists of a tag and the element content.\n",
    "- The tag defines the content: for example the tag ```<h1>``` defines the content as \"a large heading\"\n",
    "- Example: \n",
    "```html \n",
    "<h1> My first heading </h1>\n",
    "```"
   ]
  },
  {
   "cell_type": "markdown",
   "metadata": {
    "slideshow": {
     "slide_type": "subslide"
    }
   },
   "source": [
    "In the browser, the HTML above will show up like this: <h1> My first heading </h1>"
   ]
  },
  {
   "cell_type": "markdown",
   "metadata": {
    "slideshow": {
     "slide_type": "subslide"
    }
   },
   "source": [
    "### Important tags\n",
    "\n",
    "Here are some examples of often used tags:\n",
    "```html \n",
    "<h1> Defines a large header </h1>\n",
    "<p> Defines a paragraph </p>    \n",
    "<div> Defines a section </div>\n",
    "<a> Defines a link </a> \n",
    "<table> Defines a table </table> \n",
    "```"
   ]
  },
  {
   "cell_type": "markdown",
   "metadata": {
    "slideshow": {
     "slide_type": "subslide"
    }
   },
   "source": [
    "### Attributes to the HTML elements\n",
    "Each element can have some [attributes](https://www.w3schools.com/html/html_attributes.asp)\n",
    "\n",
    "- They are specified in the tags\n",
    "- Example: \n",
    "```html \n",
    "<div class=myclass> My first section </div>\n",
    "```"
   ]
  },
  {
   "cell_type": "markdown",
   "metadata": {
    "slideshow": {
     "slide_type": "fragment"
    }
   },
   "source": [
    "### Important attributes\n",
    "Here are some examples of often used attributes:\n",
    "- class: Specifies a class for an HTML element (multiple elements can share the same class)\n",
    "- id: Specifies a *unique* id for an HTML element\n",
    "- href: Specifies the link's destination/URL (used in combination with the ```<a>``` tag)"
   ]
  },
  {
   "cell_type": "markdown",
   "metadata": {
    "slideshow": {
     "slide_type": "subslide"
    }
   },
   "source": [
    "### HTML is like a tree\n",
    "\n",
    "An element is also called a node\n",
    "\n",
    "A node can have more nodes inside it. The nodes inside are then called *children*"
   ]
  },
  {
   "cell_type": "markdown",
   "metadata": {
    "slideshow": {
     "slide_type": "fragment"
    }
   },
   "source": [
    "- Example: \n",
    "```html \n",
    "<div> \n",
    "    <p> My first paragraph </p>\n",
    "</div>\n",
    "```\n",
    "In this example, ```<p>``` is the child, and ```<div>``` is the parent.\n",
    "- You may come across expressions like *children*, *siblings*, *parents*, *descendants*"
   ]
  },
  {
   "cell_type": "markdown",
   "metadata": {
    "slideshow": {
     "slide_type": "subslide"
    }
   },
   "source": [
    "### Here is an example of an HTML tree (can you see the similarity with a family tree?) \n",
    "<img src=\"http://www.openbookproject.net/tutorials/getdown/css/images/lesson4/HTMLDOMTree.png\"/>"
   ]
  },
  {
   "cell_type": "markdown",
   "metadata": {
    "slideshow": {
     "slide_type": "slide"
    }
   },
   "source": [
    "# Video 7.1: Navigating the HTML tree, intro"
   ]
  },
  {
   "cell_type": "markdown",
   "metadata": {
    "slideshow": {
     "slide_type": "subslide"
    }
   },
   "source": [
    "## How do we find our way around the HTML tree?\n",
    "\n",
    "The HTML contains the information that we are interested in!\n",
    "- But how do we locate it?"
   ]
  },
  {
   "cell_type": "markdown",
   "metadata": {
    "slideshow": {
     "slide_type": "fragment"
    }
   },
   "source": [
    "### Three ways of finding the information you want:\n",
    "1. Regex: Exploiting string patterns in HTML using regular expresssions\n",
    "2. CSS-selectors: Specifying paths in the tree using CSS-selectors\n",
    "3. ```BeautifulSoup```: A Python package that makes it easy to navigate the HTML tree"
   ]
  },
  {
   "cell_type": "markdown",
   "metadata": {
    "slideshow": {
     "slide_type": "subslide"
    }
   },
   "source": [
    "### 1. Regex\n",
    "**What is regex?**\n",
    "\n",
    "Regex is used to define a search pattern in text"
   ]
  },
  {
   "cell_type": "markdown",
   "metadata": {
    "slideshow": {
     "slide_type": "fragment"
    }
   },
   "source": [
    "Suppose we want to search for all links in an HTML tree:\n",
    "- We can then define a search pattern in regex that searches for \"www.\" for example\n",
    "- Using regex we will then find all the places in the HTML where it says \"www.\""
   ]
  },
  {
   "cell_type": "markdown",
   "metadata": {
    "slideshow": {
     "slide_type": "fragment"
    }
   },
   "source": [
    "Note: Regex only works on text/strings. So we need to convert our HTML tree into one large string before we can use regex on HTML\n",
    "\n",
    "More about regex in session 8!"
   ]
  },
  {
   "cell_type": "markdown",
   "metadata": {
    "slideshow": {
     "slide_type": "subslide"
    }
   },
   "source": [
    "### 2. [CSS Selectors ](https://en.wikipedia.org/wiki/CSS)\n",
    "A CSS selector is used to select the HTML elements ([How can you use a CSS selector?](https://www.scrapingbee.com/blog/python-web-scraping-beautiful-soup/))\n",
    "- At first it will seem very similar to the BeautifulSoup way of selecting elements (which you will learn in a minute)\n",
    "    - However, a CSS selector is useful when you cannot rely on *class* and *id* attributes (for example in very messy written HTML)\n",
    "\n",
    "It is a need way to define a unique path to an element or multiple similar elements in the HTML tree\n",
    "\n",
    "You can download a CSS Selector as a Google Chrome extension that will do the work for you: [SelectorGadget](https://chrome.google.com/webstore/detail/selectorgadget/mhjhnkcfbdhnjickkkdbjoemdmbfginb)"
   ]
  },
  {
   "cell_type": "code",
   "execution_count": 1,
   "metadata": {
    "slideshow": {
     "slide_type": "subslide"
    }
   },
   "outputs": [],
   "source": [
    "import requests\n",
    "from bs4 import BeautifulSoup\n",
    "import pandas as pd"
   ]
  },
  {
   "cell_type": "markdown",
   "metadata": {
    "slideshow": {
     "slide_type": "subslide"
    }
   },
   "source": [
    "#### BeautifulSoup has a built-in CSS selector:\n",
    "\n",
    "Just use the function `.select`"
   ]
  },
  {
   "cell_type": "code",
   "execution_count": 2,
   "metadata": {
    "slideshow": {
     "slide_type": "fragment"
    }
   },
   "outputs": [],
   "source": [
    "url = 'https://www.dr.dk/nyheder/udland'\n",
    "response = requests.get(url)\n",
    "soup = BeautifulSoup(response.content, 'lxml') #Make the BeautifulSoup object (soup): Take the HTML content as input and choose your parser (lxml)"
   ]
  },
  {
   "cell_type": "code",
   "execution_count": 3,
   "metadata": {
    "slideshow": {
     "slide_type": "fragment"
    }
   },
   "outputs": [
    {
     "data": {
      "text/plain": [
       "'Skovbrand i Californien er tre gange så stor som Bornholm'"
      ]
     },
     "execution_count": 3,
     "metadata": {},
     "output_type": "execute_result"
    }
   ],
   "source": [
    "# The CSS selector \".dre-title-text\" selects all titles on the DR international news page\n",
    "soup.select('.dre-title-text')[0].text #Selecting first title"
   ]
  },
  {
   "cell_type": "markdown",
   "metadata": {
    "slideshow": {
     "slide_type": "subslide"
    }
   },
   "source": [
    "### 3. Parsing HTML with BeautifulSoup\n",
    "A third way to navigate the HTML tree is BeautifulSoup\n",
    "\n",
    "It exploits the stucture of tags and attributes"
   ]
  },
  {
   "cell_type": "markdown",
   "metadata": {
    "slideshow": {
     "slide_type": "fragment"
    }
   },
   "source": [
    "It allows you to:\n",
    "- Search for elements by tag name and/or by attribute.\n",
    "- Iterate through them, go up, sideways or down the tree.\n",
    "- Furthermore it helps you with standard tasks such as extracting raw text from html"
   ]
  },
  {
   "cell_type": "markdown",
   "metadata": {
    "slideshow": {
     "slide_type": "slide"
    }
   },
   "source": [
    "# Video 7.2: Parsing the HTML with BeautifulSoup"
   ]
  },
  {
   "cell_type": "markdown",
   "metadata": {
    "slideshow": {
     "slide_type": "slide"
    }
   },
   "source": [
    "## Learning by doing: Creating a dataset from www.dr.dk/nyheder/udland\n",
    "\n",
    "### Let's put together some of the stuff we have learned so far\n",
    "1. **Mapping:** In this exercise we will collect some URLs from webpages with news articles and save them into a list\n",
    "2. **Downloading:** Then we will download the HTML content of the webpages\n",
    "3. **Parsing:** At last we will collect relevant information in each article"
   ]
  },
  {
   "cell_type": "markdown",
   "metadata": {
    "slideshow": {
     "slide_type": "slide"
    }
   },
   "source": [
    "## 1. MAPPING"
   ]
  },
  {
   "cell_type": "markdown",
   "metadata": {
    "slideshow": {
     "slide_type": "subslide"
    }
   },
   "source": [
    "#### First, we investigate the site trying to understand its structure\n",
    "\n",
    "We do this by opening up the Chrome Developer Tools on the webpage:\n",
    "1. Right-click anywhere on the webpage\n",
    "2. Click \"Inspect\"\n",
    "3. Choose the panel \"Elements\""
   ]
  },
  {
   "cell_type": "markdown",
   "metadata": {
    "slideshow": {
     "slide_type": "fragment"
    }
   },
   "source": [
    "You can now see the HTML of the webpage and the tree structure.\n",
    "\n",
    "First, we want to understand where the articles are located in the HTML: \n",
    "- The \"Elements\" panel will jump to the place in the HTML tree where you right-click\n",
    "- So to find the location of articles in the HTML, just right-click on one of them"
   ]
  },
  {
   "cell_type": "markdown",
   "metadata": {
    "slideshow": {
     "slide_type": "subslide"
    }
   },
   "source": [
    "#### Get the webpage content and make the BeautifulSoup object:"
   ]
  },
  {
   "cell_type": "code",
   "execution_count": 4,
   "metadata": {
    "slideshow": {
     "slide_type": "fragment"
    }
   },
   "outputs": [],
   "source": [
    "# Define our URL\n",
    "url = 'https://www.dr.dk/nyheder/udland' \n",
    "\n",
    "# Connects to site\n",
    "response = requests.get(url)\n",
    "\n",
    "# Parse data with BeautifulSoup\n",
    "soup = BeautifulSoup(response.content,'lxml')"
   ]
  },
  {
   "cell_type": "markdown",
   "metadata": {
    "slideshow": {
     "slide_type": "subslide"
    }
   },
   "source": [
    "#### Find the articles to scrape:\n",
    "\n",
    "[`find_all`](https://www.crummy.com/software/BeautifulSoup/bs4/doc/#find-all) finds all elements in the HTML that have the tag ```<div>``` and the class attribute 'dre-teaser-content' "
   ]
  },
  {
   "cell_type": "code",
   "execution_count": 5,
   "metadata": {
    "slideshow": {
     "slide_type": "fragment"
    }
   },
   "outputs": [],
   "source": [
    "# Identify articles to scrape by inspecting site\n",
    "articles = soup.find_all('div', class_ = 'dre-teaser-content') #(class_ is used because class is reserved in Python)"
   ]
  },
  {
   "cell_type": "code",
   "execution_count": 6,
   "metadata": {
    "collapsed": true,
    "jupyter": {
     "outputs_hidden": true
    },
    "slideshow": {
     "slide_type": "fragment"
    },
    "tags": []
   },
   "outputs": [
    {
     "data": {
      "text/plain": [
       "[<div class=\"dre-teaser-content\"><div class=\"dre-article-teaser__text-box dre-article-teaser__text-box--transparent dre-article-teaser__text-box--xxs-4 dre-article-teaser__text-box--xs-4 dre-article-teaser__text-box--sm-4 dre-article-teaser__text-box--md-4 dre-article-teaser__text-box--lg-8 dre-article-teaser__text-box--xl-8\"><div class=\"dre-article-teaser-meta-label\"><div aria-hidden=\"true\" class=\"dre-teaser-meta\"><span class=\"dre-label-text dre-label-text--xxs-x-small\"><span class=\"dre-label-text__text\"><span class=\"dre-teaser-meta__part dre-teaser-meta__part--primary\"><span class=\"dre-teaser-meta-label dre-teaser-meta-label--primary\">Udland</span></span><span class=\"dre-teaser-meta__part\"><span class=\"dre-teaser-meta-label\">I dag kl. 07:08</span></span></span></span></div></div><a aria-label='Skovbrand i Californien er tre gange så stor som Bornholm, I dag klokken 07:08, fra sektionen \"Udland\"' class=\"dre-teaser-title dre-teaser-title--margin-top dre-teaser-title--xxs-small dre-teaser-title--sm-medium dre-teaser-title--md-large\" href=\"/nyheder/udland/skovbrand-i-californien-er-tre-gange-saa-stor-som-bornholm\"><span class=\"dre-teaser-title__text\"><span class=\"dre-title-text\">Skovbrand i Californien er tre gange så stor som Bornholm</span></span></a></div></div>,\n",
       " <div class=\"dre-teaser-content\"><div class=\"dre-article-teaser__text-box dre-article-teaser__text-box--transparent dre-article-teaser__text-box--xxs-2 dre-article-teaser__text-box--xs-2 dre-article-teaser__text-box--sm-2 dre-article-teaser__text-box--md-2 dre-article-teaser__text-box--lg-4 dre-article-teaser__text-box--xl-4\"><div class=\"dre-article-teaser-meta-label\"><div aria-hidden=\"true\" class=\"dre-teaser-meta\"><span class=\"dre-label-text dre-label-text--xxs-x-small\"><span class=\"dre-label-text__text\"><span class=\"dre-teaser-meta__part dre-teaser-meta__part--primary\"><span class=\"dre-teaser-meta-label dre-teaser-meta-label--primary\">Udland</span></span><span class=\"dre-teaser-meta__part\"><span class=\"dre-teaser-meta-label\">I dag kl. 07:03</span></span></span></span></div></div><a aria-label='Foto-feature: Se billederne: Southport-protester har nået et nyt niveau, 8 billeder, I dag klokken 07:03, fra sektionen \"Udland\"' class=\"dre-teaser-title dre-teaser-title--margin-top dre-teaser-title--xxs-xx-small dre-teaser-title--md-x-small\" href=\"/nyheder/udland/se-billederne-southport-protester-har-naaet-et-nyt-niveau\"><span class=\"dre-teaser-title__text\"><span class=\"dre-title-text dre-title-text--prefixed\"><strong class=\"dre-title-text__prefix\">Se billederne: </strong>Southport-protester har nået et nyt niveau</span></span></a></div></div>,\n",
       " <div class=\"dre-teaser-content\"><div class=\"dre-article-teaser__text-box dre-article-teaser__text-box--transparent dre-article-teaser__text-box--xxs-2 dre-article-teaser__text-box--xs-2 dre-article-teaser__text-box--sm-2 dre-article-teaser__text-box--md-2 dre-article-teaser__text-box--lg-4 dre-article-teaser__text-box--xl-4\"><div class=\"dre-article-teaser-meta-label\"><div aria-hidden=\"true\" class=\"dre-teaser-meta\"><span class=\"dre-label-text dre-label-text--xxs-x-small\"><span class=\"dre-label-text__text\"><span class=\"dre-teaser-meta__part dre-teaser-meta__part--primary\"><span class=\"dre-teaser-meta-label dre-teaser-meta-label--primary\">Udland</span></span><span class=\"dre-teaser-meta__part\"><span class=\"dre-teaser-meta-label\">I går kl. 22:21</span></span></span></span></div></div><a aria-label='Premierminister Starmer fordømmer uroligheder, som har spredt sig til flere engelske byer, I går klokken 22:21, fra sektionen \"Udland\"' class=\"dre-teaser-title dre-teaser-title--margin-top dre-teaser-title--xxs-xx-small dre-teaser-title--md-x-small\" href=\"/nyheder/udland/premierminister-starmer-fordoemmer-uroligheder-som-har-spredt-sig-til-flere-engelske\"><span class=\"dre-teaser-title__text\"><span class=\"dre-title-text\">Premierminister Starmer fordømmer uroligheder, som har spredt sig til flere engelske byer</span></span></a></div></div>,\n",
       " <div class=\"dre-teaser-content\"><div class=\"dre-article-teaser__text-box dre-article-teaser__text-box--transparent dre-article-teaser__text-box--xxs-4 dre-article-teaser__text-box--xs-4 dre-article-teaser__text-box--sm-4 dre-article-teaser__text-box--md-4 dre-article-teaser__text-box--lg-8 dre-article-teaser__text-box--xl-8\"><div class=\"dre-article-teaser-meta-label\"><div aria-hidden=\"true\" class=\"dre-teaser-meta\"><span class=\"dre-label-text dre-label-text--xxs-x-small\"><span class=\"dre-label-text__text\"><span class=\"dre-teaser-meta__part dre-teaser-meta__part--primary\"><span class=\"dre-teaser-meta-label dre-teaser-meta-label--primary\">Udland</span></span><span class=\"dre-teaser-meta__part\"><span class=\"dre-teaser-meta-label\">I går kl. 18:39</span></span></span></span></div></div><a aria-label=\"Tre russere ville ønske, at Vesten ikke havde hjulpet dem ud af Putins greb: 'De er blevet politisk kastreret', I går klokken 18:39, fra sektionen &quot;Udland&quot;\" class=\"dre-teaser-title dre-teaser-title--margin-top dre-teaser-title--xxs-small dre-teaser-title--sm-medium dre-teaser-title--md-large\" href=\"/nyheder/udland/tre-russere-ville-oenske-vesten-ikke-havde-hjulpet-dem-ud-af-putins-greb-de-er-blevet\"><span class=\"dre-teaser-title__text\"><span class=\"dre-title-text dre-title-text--prefixed\"><strong class=\"dre-title-text__prefix\">Tre russere ville ønske, at Vesten ikke havde hjulpet dem ud af Putins greb: </strong>'De er blevet politisk kastreret'</span></span></a></div></div>,\n",
       " <div class=\"dre-teaser-content\"><div class=\"dre-article-teaser__text-box dre-article-teaser__text-box--transparent dre-article-teaser__text-box--xxs-2 dre-article-teaser__text-box--xs-2 dre-article-teaser__text-box--sm-2 dre-article-teaser__text-box--md-2 dre-article-teaser__text-box--lg-4 dre-article-teaser__text-box--xl-4\"><div class=\"dre-article-teaser-meta-label\"><div aria-hidden=\"true\" class=\"dre-teaser-meta\"><span class=\"dre-label-text dre-label-text--xxs-x-small\"><span class=\"dre-label-text__text\"><span class=\"dre-teaser-meta__part dre-teaser-meta__part--primary\"><span class=\"dre-teaser-meta-label dre-teaser-meta-label--primary\">Udland</span></span><span class=\"dre-teaser-meta__part\"><span class=\"dre-teaser-meta-label\">I går kl. 06:43</span></span></span></span></div></div><a aria-label='Amerikansk forsvarsminister dropper aftaler med 9/11-gerningsmænd, I går klokken 06:43, fra sektionen \"Udland\"' class=\"dre-teaser-title dre-teaser-title--margin-top dre-teaser-title--xxs-xx-small dre-teaser-title--md-x-small\" href=\"/nyheder/udland/amerikansk-forsvarsminister-dropper-aftaler-med-911-gerningsmaend\"><span class=\"dre-teaser-title__text\"><span class=\"dre-title-text\">Amerikansk forsvarsminister dropper aftaler med 9/11-gerningsmænd</span></span></a></div></div>,\n",
       " <div class=\"dre-teaser-content\"><div class=\"dre-article-teaser__text-box dre-article-teaser__text-box--transparent dre-article-teaser__text-box--xxs-2 dre-article-teaser__text-box--xs-2 dre-article-teaser__text-box--sm-2 dre-article-teaser__text-box--md-2 dre-article-teaser__text-box--lg-4 dre-article-teaser__text-box--xl-4\"><div class=\"dre-article-teaser-meta-label\"><div aria-hidden=\"true\" class=\"dre-teaser-meta\"><span class=\"dre-label-text dre-label-text--xxs-x-small\"><span class=\"dre-label-text__text\"><span class=\"dre-teaser-meta__part dre-teaser-meta__part--primary\"><span class=\"dre-teaser-meta-label dre-teaser-meta-label--primary\">Udland</span></span><span class=\"dre-teaser-meta__part\"><span class=\"dre-teaser-meta-label\">2. aug kl. 20:25</span></span></span></span></div></div><a aria-label='Løkke om hjælp til 33-årige dansker i russisk hær: Vi står klar - men kan næppe gøre meget, 2. august klokken 20:25, fra sektionen \"Udland\"' class=\"dre-teaser-title dre-teaser-title--margin-top dre-teaser-title--xxs-xx-small dre-teaser-title--md-x-small\" href=\"/nyheder/udland/loekke-om-hjaelp-til-33-aarige-dansker-i-russisk-haer-vi-staar-klar-men-kan-naeppe\"><span class=\"dre-teaser-title__text\"><span class=\"dre-title-text dre-title-text--prefixed\"><strong class=\"dre-title-text__prefix\">Løkke om hjælp til 33-årige dansker i russisk hær: </strong>Vi står klar - men kan næppe gøre meget</span></span></a></div></div>,\n",
       " <div class=\"dre-teaser-content\"><div class=\"dre-article-teaser__text-box dre-article-teaser__text-box--transparent dre-article-teaser__text-box--xxs-4 dre-article-teaser__text-box--xs-4 dre-article-teaser__text-box--sm-2 dre-article-teaser__text-box--md-2 dre-article-teaser__text-box--lg-4 dre-article-teaser__text-box--xl-4\"><div class=\"dre-article-teaser-meta-label\"><div aria-hidden=\"true\" class=\"dre-teaser-meta\"><span class=\"dre-label-text dre-label-text--xxs-x-small\"><span class=\"dre-label-text__text\"><span class=\"dre-teaser-meta__part dre-teaser-meta__part--primary\"><span class=\"dre-teaser-meta-label dre-teaser-meta-label--primary\">Udland</span></span><span class=\"dre-teaser-meta__part\"><span class=\"dre-teaser-meta-label\">2. aug kl. 19:32</span></span></span></span></div></div><a aria-label='Sjælden indrømmelse fra Kreml: Tre udvekslede fanger var russiske spioner, 2. august klokken 19:32, fra sektionen \"Udland\"' class=\"dre-teaser-title dre-teaser-title--margin-top dre-teaser-title--xxs-small dre-teaser-title--sm-xx-small dre-teaser-title--md-x-small\" href=\"/nyheder/udland/sjaelden-indroemmelse-fra-kreml-tre-udvekslede-fanger-var-russiske-spioner\"><span class=\"dre-teaser-title__text\"><span class=\"dre-title-text dre-title-text--prefixed\"><strong class=\"dre-title-text__prefix\">Sjælden indrømmelse fra Kreml: </strong>Tre udvekslede fanger var russiske spioner</span></span></a></div></div>,\n",
       " <div class=\"dre-teaser-content\"><div class=\"dre-article-teaser__text-box dre-article-teaser__text-box--transparent dre-article-teaser__text-box--xxs-4 dre-article-teaser__text-box--xs-4 dre-article-teaser__text-box--sm-2 dre-article-teaser__text-box--md-2 dre-article-teaser__text-box--lg-4 dre-article-teaser__text-box--xl-4\"><div class=\"dre-article-teaser-meta-label\"><div aria-hidden=\"true\" class=\"dre-teaser-meta\"><span class=\"dre-label-text dre-label-text--xxs-x-small\"><span class=\"dre-label-text__text\"><span class=\"dre-teaser-meta__part dre-teaser-meta__part--primary\"><span class=\"dre-teaser-meta-label dre-teaser-meta-label--primary\">Valg i USA</span></span><span class=\"dre-teaser-meta__part\"><span class=\"dre-teaser-meta-label\">2. aug kl. 19:31</span></span></span></span></div></div><a aria-label='Kamala Harris har fået stemmer nok til at blive Demokraternes præsidentkandidat, 2. august klokken 19:31, fra sektionen \"Valg i USA\"' class=\"dre-teaser-title dre-teaser-title--margin-top dre-teaser-title--xxs-small dre-teaser-title--sm-xx-small dre-teaser-title--md-x-small\" href=\"/nyheder/seneste/kamala-harris-er-nu-officielt-demokraternes-praesidentkandidat-har-faaet-nok-stemmer\"><span class=\"dre-teaser-title__text\"><span class=\"dre-title-text\">Kamala Harris har fået stemmer nok til at blive Demokraternes præsidentkandidat</span></span></a></div></div>,\n",
       " <div class=\"dre-teaser-content\"><div class=\"dre-article-teaser__text-box dre-article-teaser__text-box--transparent dre-article-teaser__text-box--xxs-4 dre-article-teaser__text-box--xs-4 dre-article-teaser__text-box--sm-2 dre-article-teaser__text-box--md-2 dre-article-teaser__text-box--lg-4 dre-article-teaser__text-box--xl-4\"><div class=\"dre-article-teaser-meta-label\"><div aria-hidden=\"true\" class=\"dre-teaser-meta\"><span class=\"dre-label-text dre-label-text--xxs-x-small\"><span class=\"dre-label-text__text\"><span class=\"dre-teaser-meta__part dre-teaser-meta__part--primary\"><span class=\"dre-teaser-meta-label dre-teaser-meta-label--primary\">Udland</span></span><span class=\"dre-teaser-meta__part\"><span class=\"dre-teaser-meta-label\">2. aug kl. 18:44</span></span></span></span></div></div><a aria-label='Engelske byer og moskeer skruer op for sikkerheden i weekenden: Frygter nye optøjer, 2. august klokken 18:44, fra sektionen \"Udland\"' class=\"dre-teaser-title dre-teaser-title--margin-top dre-teaser-title--xxs-small dre-teaser-title--sm-xx-small dre-teaser-title--md-x-small\" href=\"/nyheder/udland/engelske-byer-og-moskeer-skruer-op-sikkerheden-i-weekenden-frygter-nye-optoejer\"><span class=\"dre-teaser-title__text\"><span class=\"dre-title-text dre-title-text--prefixed\"><strong class=\"dre-title-text__prefix\">Engelske byer og moskeer skruer op for sikkerheden i weekenden: </strong>Frygter nye optøjer</span></span></a></div></div>,\n",
       " <div class=\"dre-teaser-content\"><div class=\"dre-article-teaser__text-box dre-article-teaser__text-box--transparent dre-article-teaser__text-box--xxs-4 dre-article-teaser__text-box--xs-4 dre-article-teaser__text-box--sm-4 dre-article-teaser__text-box--md-4 dre-article-teaser__text-box--lg-8 dre-article-teaser__text-box--xl-8\"><div class=\"dre-article-teaser-meta-label\"><div aria-hidden=\"true\" class=\"dre-teaser-meta\"><span class=\"dre-label-text dre-label-text--xxs-x-small\"><span class=\"dre-label-text__text\"><span class=\"dre-teaser-meta__part dre-teaser-meta__part--primary\"><span class=\"dre-teaser-meta-label dre-teaser-meta-label--primary\">Udland</span></span><span class=\"dre-teaser-meta__part\"><span class=\"dre-teaser-meta-label\">2. aug kl. 17:30</span></span></span></span></div></div><a aria-label='Nyt studie: Norske vikinger var mere voldelige end danske, 2. august klokken 17:30, fra sektionen \"Udland\"' class=\"dre-teaser-title dre-teaser-title--margin-top dre-teaser-title--xxs-small dre-teaser-title--sm-medium dre-teaser-title--md-large\" href=\"/nyheder/udland/nyt-studie-norske-vikinger-var-mere-voldelige-end-danske\"><span class=\"dre-teaser-title__text\"><span class=\"dre-title-text dre-title-text--prefixed\"><strong class=\"dre-title-text__prefix\">Nyt studie: </strong>Norske vikinger var mere voldelige end danske</span></span></a></div></div>,\n",
       " <div class=\"dre-teaser-content\"><div class=\"dre-article-teaser__text-box dre-article-teaser__text-box--transparent dre-article-teaser__text-box--xxs-2 dre-article-teaser__text-box--xs-2 dre-article-teaser__text-box--sm-2 dre-article-teaser__text-box--md-2 dre-article-teaser__text-box--lg-4 dre-article-teaser__text-box--xl-4\"><div class=\"dre-article-teaser-meta-label\"><div aria-hidden=\"true\" class=\"dre-teaser-meta\"><span class=\"dre-label-text dre-label-text--xxs-x-small\"><span class=\"dre-label-text__text\"><span class=\"dre-teaser-meta__part dre-teaser-meta__part--primary\"><span class=\"dre-teaser-meta-label dre-teaser-meta-label--primary\">Udland</span></span><span class=\"dre-teaser-meta__part\"><span class=\"dre-teaser-meta-label\">2. aug kl. 16:47</span></span></span></span></div></div><a aria-label=\"Fangeudveksling er en sejr for Biden og Harris: 'Det vil nok blive brugt i valgkampen', 2. august klokken 16:47, fra sektionen &quot;Udland&quot;\" class=\"dre-teaser-title dre-teaser-title--margin-top dre-teaser-title--xxs-xx-small dre-teaser-title--md-x-small\" href=\"/nyheder/udland/fangeudveksling-er-en-sejr-biden-og-harris-det-vil-nok-blive-brugt-i-valgkampen\"><span class=\"dre-teaser-title__text\"><span class=\"dre-title-text dre-title-text--prefixed\"><strong class=\"dre-title-text__prefix\">Fangeudveksling er en sejr for Biden og Harris: </strong>'Det vil nok blive brugt i valgkampen'</span></span></a></div></div>,\n",
       " <div class=\"dre-teaser-content\"><div class=\"dre-article-teaser__text-box dre-article-teaser__text-box--transparent dre-article-teaser__text-box--xxs-2 dre-article-teaser__text-box--xs-2 dre-article-teaser__text-box--sm-2 dre-article-teaser__text-box--md-2 dre-article-teaser__text-box--lg-4 dre-article-teaser__text-box--xl-4\"><div class=\"dre-article-teaser-meta-label\"><div aria-hidden=\"true\" class=\"dre-teaser-meta\"><span class=\"dre-label-text dre-label-text--xxs-x-small\"><span class=\"dre-label-text__text\"><span class=\"dre-teaser-meta__part dre-teaser-meta__part--primary\"><span class=\"dre-teaser-meta-label dre-teaser-meta-label--primary\">Udland</span></span><span class=\"dre-teaser-meta__part\"><span class=\"dre-teaser-meta-label\">2. aug kl. 15:45</span></span></span></span></div></div><a aria-label='USA modsiger Venezuelas præsident: Du tabte valget, 2. august klokken 15:45, fra sektionen \"Udland\"' class=\"dre-teaser-title dre-teaser-title--margin-top dre-teaser-title--xxs-xx-small dre-teaser-title--md-x-small\" href=\"/nyheder/udland/usa-modsiger-venezuelas-praesident-du-tabte-valget\"><span class=\"dre-teaser-title__text\"><span class=\"dre-title-text dre-title-text--prefixed\"><strong class=\"dre-title-text__prefix\">USA modsiger Venezuelas præsident: </strong>Du tabte valget</span></span></a></div></div>,\n",
       " <div class=\"dre-teaser-content\"><div class=\"dre-article-teaser__text-box dre-article-teaser__text-box--transparent dre-article-teaser__text-box--xxs-4 dre-article-teaser__text-box--xs-4 dre-article-teaser__text-box--sm-2 dre-article-teaser__text-box--md-2 dre-article-teaser__text-box--lg-4 dre-article-teaser__text-box--xl-4\"><div class=\"dre-article-teaser-meta-label\"><div aria-hidden=\"true\" class=\"dre-teaser-meta\"><span class=\"dre-label-text dre-label-text--xxs-x-small\"><span class=\"dre-label-text__text\"><span class=\"dre-teaser-meta__part dre-teaser-meta__part--primary\"><span class=\"dre-teaser-meta-label dre-teaser-meta-label--primary\">Udland</span></span><span class=\"dre-teaser-meta__part\"><span class=\"dre-teaser-meta-label\">2. aug kl. 15:00</span></span></span></span></div></div><a aria-label=\"For tredje gang i tyve år erklæres der hungersnød i Afrika: '100 mennesker sulter ihjel hver dag', 2. august klokken 15:00, fra sektionen &quot;Udland&quot;\" class=\"dre-teaser-title dre-teaser-title--margin-top dre-teaser-title--xxs-small dre-teaser-title--sm-xx-small dre-teaser-title--md-x-small\" href=\"/nyheder/udland/tredje-gang-i-tyve-aar-erklaeres-der-hungersnoed-i-afrika-100-mennesker-sulter-ihjel\"><span class=\"dre-teaser-title__text\"><span class=\"dre-title-text dre-title-text--prefixed\"><strong class=\"dre-title-text__prefix\">For tredje gang i tyve år erklæres der hungersnød i Afrika: </strong>'100 mennesker sulter ihjel hver dag'</span></span></a></div></div>,\n",
       " <div class=\"dre-teaser-content\"><div class=\"dre-article-teaser__text-box dre-article-teaser__text-box--transparent dre-article-teaser__text-box--xxs-4 dre-article-teaser__text-box--xs-4 dre-article-teaser__text-box--sm-2 dre-article-teaser__text-box--md-2 dre-article-teaser__text-box--lg-4 dre-article-teaser__text-box--xl-4\"><div class=\"dre-article-teaser-meta-label\"><div aria-hidden=\"true\" class=\"dre-teaser-meta\"><span class=\"dre-label-text dre-label-text--xxs-x-small\"><span class=\"dre-label-text__text\"><span class=\"dre-teaser-meta__part dre-teaser-meta__part--primary\"><span class=\"dre-teaser-meta-label dre-teaser-meta-label--primary\">Udland</span></span><span class=\"dre-teaser-meta__part\"><span class=\"dre-teaser-meta-label\">2. aug kl. 14:28</span></span></span></span></div></div><a aria-label='Foto-feature: Qatars emir og flere højtstående Hamas-folk deltog i Ismail Haniyehs begravelse, 13 billeder, 2. august klokken 14:28, fra sektionen \"Udland\"' class=\"dre-teaser-title dre-teaser-title--margin-top dre-teaser-title--xxs-small dre-teaser-title--sm-xx-small dre-teaser-title--md-x-small\" href=\"/nyheder/seneste/qatars-emir-og-flere-hoejtstaaende-hamas-folk-deltog-i-ismail-haniyehs-begravelse\"><span class=\"dre-teaser-title__text\"><span class=\"dre-title-text\">Qatars emir og flere højtstående Hamas-folk deltog i Ismail Haniyehs begravelse</span></span></a></div></div>,\n",
       " <div class=\"dre-teaser-content\"><div class=\"dre-article-teaser__text-box dre-article-teaser__text-box--transparent dre-article-teaser__text-box--xxs-4 dre-article-teaser__text-box--xs-4 dre-article-teaser__text-box--sm-2 dre-article-teaser__text-box--md-2 dre-article-teaser__text-box--lg-4 dre-article-teaser__text-box--xl-4\"><div class=\"dre-article-teaser-meta-label\"><div aria-hidden=\"true\" class=\"dre-teaser-meta\"><span class=\"dre-label-text dre-label-text--xxs-x-small\"><span class=\"dre-label-text__text\"><span class=\"dre-teaser-meta__part dre-teaser-meta__part--primary\"><span class=\"dre-teaser-meta-label dre-teaser-meta-label--primary\">Udland</span></span><span class=\"dre-teaser-meta__part\"><span class=\"dre-teaser-meta-label\">2. aug kl. 11:57</span></span></span></span></div></div><a aria-label='Video: Voldsomme regnskyl oversvømmer gader og boliger i Pakistans næststørste by, 30 sekunder, 2. august klokken 11:57, fra sektionen \"Udland\"' class=\"dre-teaser-title dre-teaser-title--margin-top dre-teaser-title--xxs-small dre-teaser-title--sm-xx-small dre-teaser-title--md-x-small\" href=\"/nyheder/udland/voldsomme-regnskyl-oversvoemmer-gader-og-boliger-i-pakistans-naeststoerste\"><span class=\"dre-teaser-title__text\"><span class=\"dre-title-text\">Voldsomme regnskyl oversvømmer gader og boliger i Pakistans næststørste by</span></span></a></div></div>,\n",
       " <div class=\"dre-teaser-content\"><div class=\"dre-article-teaser__text-box dre-article-teaser__text-box--transparent dre-article-teaser__text-box--xxs-4 dre-article-teaser__text-box--xs-4 dre-article-teaser__text-box--sm-4 dre-article-teaser__text-box--md-4 dre-article-teaser__text-box--lg-8 dre-article-teaser__text-box--xl-8\"><div class=\"dre-article-teaser-meta-label\"><div aria-hidden=\"true\" class=\"dre-teaser-meta\"><span class=\"dre-label-text dre-label-text--xxs-x-small\"><span class=\"dre-label-text__text\"><span class=\"dre-teaser-meta__part dre-teaser-meta__part--primary\"><span class=\"dre-teaser-meta-label dre-teaser-meta-label--primary\">Udland</span></span><span class=\"dre-teaser-meta__part\"><span class=\"dre-teaser-meta-label\">2. aug kl. 08:27</span></span></span></span></div></div><a aria-label='Video: Hele Southport sørger over knivdrabet på de tre piger på seks, syv og ni år, 23 sekunder, 2. august klokken 08:27, fra sektionen \"Udland\"' class=\"dre-teaser-title dre-teaser-title--margin-top dre-teaser-title--xxs-small dre-teaser-title--sm-medium dre-teaser-title--md-large\" href=\"/nyheder/udland/hele-southport-soerger-over-knivdrabet-paa-de-tre-piger-paa-seks-syv-og-ni-aar\"><span class=\"dre-teaser-title__text\"><span class=\"dre-title-text\">Hele Southport sørger over knivdrabet på de tre piger på seks, syv og ni år</span></span></a></div></div>,\n",
       " <div class=\"dre-teaser-content\"><div class=\"dre-article-teaser__text-box dre-article-teaser__text-box--transparent dre-article-teaser__text-box--xxs-2 dre-article-teaser__text-box--xs-2 dre-article-teaser__text-box--sm-2 dre-article-teaser__text-box--md-2 dre-article-teaser__text-box--lg-4 dre-article-teaser__text-box--xl-4\"><div class=\"dre-article-teaser-meta-label\"><div aria-hidden=\"true\" class=\"dre-teaser-meta\"><span class=\"dre-label-text dre-label-text--xxs-x-small\"><span class=\"dre-label-text__text\"><span class=\"dre-teaser-meta__part dre-teaser-meta__part--primary\"><span class=\"dre-teaser-meta-label dre-teaser-meta-label--primary\">Udland</span></span><span class=\"dre-teaser-meta__part\"><span class=\"dre-teaser-meta-label\">2. aug kl. 06:00</span></span></span></span></div></div><a aria-label='Tre løsladte fanger i historisk udveksling er landet på amerikansk jord , 2. august klokken 06:00, fra sektionen \"Udland\"' class=\"dre-teaser-title dre-teaser-title--margin-top dre-teaser-title--xxs-xx-small dre-teaser-title--md-x-small\" href=\"/nyheder/seneste/tre-loesladte-fanger-i-historisk-udveksling-er-landet-paa-amerikansk-jord\"><span class=\"dre-teaser-title__text\"><span class=\"dre-title-text\">Tre løsladte fanger i historisk udveksling er landet på amerikansk jord </span></span></a></div></div>,\n",
       " <div class=\"dre-teaser-content\"><div class=\"dre-article-teaser__text-box dre-article-teaser__text-box--transparent dre-article-teaser__text-box--xxs-2 dre-article-teaser__text-box--xs-2 dre-article-teaser__text-box--sm-2 dre-article-teaser__text-box--md-2 dre-article-teaser__text-box--lg-4 dre-article-teaser__text-box--xl-4\"><div class=\"dre-article-teaser-meta-label\"><div aria-hidden=\"true\" class=\"dre-teaser-meta\"><span class=\"dre-label-text dre-label-text--xxs-x-small\"><span class=\"dre-label-text__text\"><span class=\"dre-teaser-meta__part dre-teaser-meta__part--primary\"><span class=\"dre-teaser-meta-label dre-teaser-meta-label--primary\">Udland</span></span><span class=\"dre-teaser-meta__part\"><span class=\"dre-teaser-meta-label\">1. aug kl. 22:10</span></span></span></span></div></div><a aria-label='Historisk fangeudveksling mellem Rusland og Vesten: Hvem er de? , 1. august klokken 22:10, fra sektionen \"Udland\"' class=\"dre-teaser-title dre-teaser-title--margin-top dre-teaser-title--xxs-xx-small dre-teaser-title--md-x-small\" href=\"/nyheder/udland/historisk-fangeudveksling-mellem-rusland-og-vesten-hvem-er-de\"><span class=\"dre-teaser-title__text\"><span class=\"dre-title-text dre-title-text--prefixed\"><strong class=\"dre-title-text__prefix\">Historisk fangeudveksling mellem Rusland og Vesten: </strong>Hvem er de? </span></span></a></div></div>,\n",
       " <div class=\"dre-teaser-content\"><div class=\"dre-article-teaser__text-box dre-article-teaser__text-box--transparent dre-article-teaser__text-box--xxs-4 dre-article-teaser__text-box--xs-4 dre-article-teaser__text-box--sm-2 dre-article-teaser__text-box--md-2 dre-article-teaser__text-box--lg-4 dre-article-teaser__text-box--xl-4\"><div class=\"dre-article-teaser-meta-label\"><div aria-hidden=\"true\" class=\"dre-teaser-meta\"><span class=\"dre-label-text dre-label-text--xxs-x-small\"><span class=\"dre-label-text__text\"><span class=\"dre-teaser-meta__part dre-teaser-meta__part--primary\"><span class=\"dre-teaser-meta-label dre-teaser-meta-label--primary\">Udland</span></span><span class=\"dre-teaser-meta__part\"><span class=\"dre-teaser-meta-label\">1. aug kl. 21:05</span></span></span></span></div></div><a aria-label=\"Dommer afliver rygter om formodet drabsmand efter voldsomme 'højreradikale' optøjer i England, 1. august klokken 21:05, fra sektionen &quot;Udland&quot;\" class=\"dre-teaser-title dre-teaser-title--margin-top dre-teaser-title--xxs-small dre-teaser-title--sm-xx-small dre-teaser-title--md-x-small\" href=\"/nyheder/udland/dommer-afliver-rygter-om-formodet-drabsmand-efter-voldsomme-hoejreradikale-optoejer-i\"><span class=\"dre-teaser-title__text\"><span class=\"dre-title-text\">Dommer afliver rygter om formodet drabsmand efter voldsomme 'højreradikale' optøjer i England</span></span></a></div></div>,\n",
       " <div class=\"dre-teaser-content\"><div class=\"dre-article-teaser__text-box dre-article-teaser__text-box--transparent dre-article-teaser__text-box--xxs-4 dre-article-teaser__text-box--xs-4 dre-article-teaser__text-box--sm-2 dre-article-teaser__text-box--md-2 dre-article-teaser__text-box--lg-4 dre-article-teaser__text-box--xl-4\"><div class=\"dre-article-teaser-meta-label\"><div aria-hidden=\"true\" class=\"dre-teaser-meta\"><span class=\"dre-label-text dre-label-text--xxs-x-small\"><span class=\"dre-label-text__text\"><span class=\"dre-teaser-meta__part dre-teaser-meta__part--primary\"><span class=\"dre-teaser-meta-label dre-teaser-meta-label--primary\">Udland</span></span><span class=\"dre-teaser-meta__part\"><span class=\"dre-teaser-meta-label\">1. aug kl. 19:41</span></span></span></span></div></div><a aria-label='Video: Vejen til våbenhvile har lange udsigter efter eskalering i Mellemøsten , 49 sekunder, 1. august klokken 19:41, fra sektionen \"Udland\"' class=\"dre-teaser-title dre-teaser-title--margin-top dre-teaser-title--xxs-small dre-teaser-title--sm-xx-small dre-teaser-title--md-x-small\" href=\"/nyheder/udland/vejen-til-vaabenhvile-har-lange-udsigter-efter-eskalering-i-mellemoesten\"><span class=\"dre-teaser-title__text\"><span class=\"dre-title-text\">Vejen til våbenhvile har lange udsigter efter eskalering i Mellemøsten </span></span></a></div></div>,\n",
       " <div class=\"dre-teaser-content\"><div class=\"dre-article-teaser__text-box dre-article-teaser__text-box--transparent dre-article-teaser__text-box--xxs-4 dre-article-teaser__text-box--xs-4 dre-article-teaser__text-box--sm-2 dre-article-teaser__text-box--md-2 dre-article-teaser__text-box--lg-4 dre-article-teaser__text-box--xl-4\"><div class=\"dre-article-teaser-meta-label\"><div aria-hidden=\"true\" class=\"dre-teaser-meta\"><span class=\"dre-label-text dre-label-text--xxs-x-small\"><span class=\"dre-label-text__text\"><span class=\"dre-teaser-meta__part dre-teaser-meta__part--primary\"><span class=\"dre-teaser-meta-label dre-teaser-meta-label--primary\">Valg i USA</span></span><span class=\"dre-teaser-meta__part\"><span class=\"dre-teaser-meta-label\">1. aug kl. 19:22</span></span></span></span></div></div><a aria-label='Kamala Harris udfordrer Trump til debat til tonerne af amerikansk rappers megahit, 1. august klokken 19:22, fra sektionen \"Valg i USA\"' class=\"dre-teaser-title dre-teaser-title--margin-top dre-teaser-title--xxs-small dre-teaser-title--sm-xx-small dre-teaser-title--md-x-small\" href=\"/nyheder/udland/valg-i-usa/kamala-harris-udfordrer-trump-til-debat-til-tonerne-af-amerikansk-rappers\"><span class=\"dre-teaser-title__text\"><span class=\"dre-title-text\">Kamala Harris udfordrer Trump til debat til tonerne af amerikansk rappers megahit</span></span></a></div></div>,\n",
       " <div class=\"dre-teaser-content\"><div class=\"dre-article-teaser__text-box dre-article-teaser__text-box--transparent dre-article-teaser__text-box--xxs-4 dre-article-teaser__text-box--xs-4 dre-article-teaser__text-box--sm-4 dre-article-teaser__text-box--md-4 dre-article-teaser__text-box--lg-8 dre-article-teaser__text-box--xl-8\"><div class=\"dre-article-teaser-meta-label\"><div aria-hidden=\"true\" class=\"dre-teaser-meta\"><span class=\"dre-label-text dre-label-text--xxs-x-small\"><span class=\"dre-label-text__text\"><span class=\"dre-teaser-meta__part dre-teaser-meta__part--primary\"><span class=\"dre-teaser-meta-label dre-teaser-meta-label--primary\">Udland</span></span><span class=\"dre-teaser-meta__part\"><span class=\"dre-teaser-meta-label\">1. aug kl. 16:01</span></span></span></span></div></div><a aria-label='Rusland og Vesten i stor fangeudveksling - spiondømt amerikansk journalist kommer hjem, 1. august klokken 16:01, fra sektionen \"Udland\"' class=\"dre-teaser-title dre-teaser-title--margin-top dre-teaser-title--xxs-small dre-teaser-title--sm-medium dre-teaser-title--md-large\" href=\"/nyheder/seneste/stor-fangeudveksling-paa-vej-russisk-fly-landet-i-tyrkiet\"><span class=\"dre-teaser-title__text\"><span class=\"dre-title-text\">Rusland og Vesten i stor fangeudveksling - spiondømt amerikansk journalist kommer hjem</span></span></a></div></div>,\n",
       " <div class=\"dre-teaser-content\"><div class=\"dre-article-teaser__text-box dre-article-teaser__text-box--transparent dre-article-teaser__text-box--xxs-2 dre-article-teaser__text-box--xs-2 dre-article-teaser__text-box--sm-2 dre-article-teaser__text-box--md-2 dre-article-teaser__text-box--lg-4 dre-article-teaser__text-box--xl-4\"><div class=\"dre-article-teaser-meta-label\"><div aria-hidden=\"true\" class=\"dre-teaser-meta\"><span class=\"dre-label-text dre-label-text--xxs-x-small\"><span class=\"dre-label-text__text\"><span class=\"dre-teaser-meta__part dre-teaser-meta__part--primary\"><span class=\"dre-teaser-meta-label dre-teaser-meta-label--primary\">Udland</span></span><span class=\"dre-teaser-meta__part\"><span class=\"dre-teaser-meta-label\">1. aug kl. 12:40</span></span></span></span></div></div><a aria-label='The 1975-forsanger kritiserede anti-LGBT-lovgivning: Nu har malaysisk festival sagsøgt bandet, 1. august klokken 12:40, fra sektionen \"Udland\"' class=\"dre-teaser-title dre-teaser-title--margin-top dre-teaser-title--xxs-xx-small dre-teaser-title--md-x-small\" href=\"/nyheder/udland/1975-forsanger-kritiserede-anti-lgbt-lovgivning-nu-har-malaysisk-festival-sagsoegt\"><span class=\"dre-teaser-title__text\"><span class=\"dre-title-text dre-title-text--prefixed\"><strong class=\"dre-title-text__prefix\">The 1975-forsanger kritiserede anti-LGBT-lovgivning: </strong>Nu har malaysisk festival sagsøgt bandet</span></span></a></div></div>,\n",
       " <div class=\"dre-teaser-content\"><div class=\"dre-article-teaser__text-box dre-article-teaser__text-box--transparent dre-article-teaser__text-box--xxs-2 dre-article-teaser__text-box--xs-2 dre-article-teaser__text-box--sm-2 dre-article-teaser__text-box--md-2 dre-article-teaser__text-box--lg-4 dre-article-teaser__text-box--xl-4\"><div class=\"dre-article-teaser-meta-label\"><div aria-hidden=\"true\" class=\"dre-teaser-meta\"><span class=\"dre-label-text dre-label-text--xxs-x-small\"><span class=\"dre-label-text__text\"><span class=\"dre-teaser-meta__part dre-teaser-meta__part--primary\"><span class=\"dre-teaser-meta-label dre-teaser-meta-label--primary\">Udland</span></span><span class=\"dre-teaser-meta__part\"><span class=\"dre-teaser-meta-label\">1. aug kl. 09:35</span></span></span></span></div></div><a aria-label=\"Iran har sværget, at man vil tage hævn for drabet på Hamas' politiske leder, 1. august klokken 09:35, fra sektionen &quot;Udland&quot;\" class=\"dre-teaser-title dre-teaser-title--margin-top dre-teaser-title--xxs-xx-small dre-teaser-title--md-x-small\" href=\"/nyheder/udland/iran-har-svaerget-man-vil-tage-haevn-drabet-paa-hamas-politiske-leder\"><span class=\"dre-teaser-title__text\"><span class=\"dre-title-text\">Iran har sværget, at man vil tage hævn for drabet på Hamas' politiske leder</span></span></a></div></div>,\n",
       " <div class=\"dre-teaser-content\"><div class=\"dre-article-teaser__text-box dre-article-teaser__text-box--transparent dre-article-teaser__text-box--xxs-4 dre-article-teaser__text-box--xs-4 dre-article-teaser__text-box--sm-2 dre-article-teaser__text-box--md-2 dre-article-teaser__text-box--lg-4 dre-article-teaser__text-box--xl-4\"><div class=\"dre-article-teaser-meta-label\"><div aria-hidden=\"true\" class=\"dre-teaser-meta\"><span class=\"dre-label-text dre-label-text--xxs-x-small\"><span class=\"dre-label-text__text\"><span class=\"dre-teaser-meta__part dre-teaser-meta__part--primary\"><span class=\"dre-teaser-meta-label dre-teaser-meta-label--primary\">Valg i USA</span></span><span class=\"dre-teaser-meta__part\"><span class=\"dre-teaser-meta-label\">1. aug kl. 08:19</span></span></span></span></div></div><a aria-label='Demokraterne har fundet ét ord, der muligvis kan slå Trump , 1. august klokken 08:19, fra sektionen \"Valg i USA\"' class=\"dre-teaser-title dre-teaser-title--margin-top dre-teaser-title--xxs-small dre-teaser-title--sm-xx-small dre-teaser-title--md-x-small\" href=\"/nyheder/udland/valg-i-usa/demokraterne-har-fundet-et-ord-der-muligvis-kan-slaa-trump\"><span class=\"dre-teaser-title__text\"><span class=\"dre-title-text\">Demokraterne har fundet ét ord, der muligvis kan slå Trump </span></span></a></div></div>,\n",
       " <div class=\"dre-teaser-content\"><div class=\"dre-article-teaser__text-box dre-article-teaser__text-box--transparent dre-article-teaser__text-box--xxs-4 dre-article-teaser__text-box--xs-4 dre-article-teaser__text-box--sm-2 dre-article-teaser__text-box--md-2 dre-article-teaser__text-box--lg-4 dre-article-teaser__text-box--xl-4\"><div class=\"dre-article-teaser-meta-label\"><div aria-hidden=\"true\" class=\"dre-teaser-meta\"><span class=\"dre-label-text dre-label-text--xxs-x-small\"><span class=\"dre-label-text__text\"><span class=\"dre-teaser-meta__part dre-teaser-meta__part--primary\"><span class=\"dre-teaser-meta-label dre-teaser-meta-label--primary\">Udland</span></span><span class=\"dre-teaser-meta__part\"><span class=\"dre-teaser-meta-label\">1. aug kl. 06:25</span></span></span></span></div></div><a aria-label='Massiv rygtestrøm efter børnedrab i Southport: Voldelige protester har bredt sig , 1. august klokken 06:25, fra sektionen \"Udland\"' class=\"dre-teaser-title dre-teaser-title--margin-top dre-teaser-title--xxs-small dre-teaser-title--sm-xx-small dre-teaser-title--md-x-small\" href=\"/nyheder/udland/massiv-rygtestroem-efter-boernedrab-i-southport-voldelige-protester-har-bredt-sig\"><span class=\"dre-teaser-title__text\"><span class=\"dre-title-text dre-title-text--prefixed\"><strong class=\"dre-title-text__prefix\">Massiv rygtestrøm efter børnedrab i Southport: </strong>Voldelige protester har bredt sig </span></span></a></div></div>,\n",
       " <div class=\"dre-teaser-content\"><div class=\"dre-article-teaser__text-box dre-article-teaser__text-box--transparent dre-article-teaser__text-box--xxs-4 dre-article-teaser__text-box--xs-4 dre-article-teaser__text-box--sm-2 dre-article-teaser__text-box--md-2 dre-article-teaser__text-box--lg-4 dre-article-teaser__text-box--xl-4\"><div class=\"dre-article-teaser-meta-label\"><div aria-hidden=\"true\" class=\"dre-teaser-meta\"><span class=\"dre-label-text dre-label-text--xxs-x-small\"><span class=\"dre-label-text__text\"><span class=\"dre-teaser-meta__part dre-teaser-meta__part--primary\"><span class=\"dre-teaser-meta-label dre-teaser-meta-label--primary\">Udland</span></span><span class=\"dre-teaser-meta__part\"><span class=\"dre-teaser-meta-label\">31. jul kl. 22:35</span></span></span></span></div></div><a aria-label='33-årig dansker indrulleret i den russiske hær og krigen mod Ukraine, 31. juli klokken 22:35, fra sektionen \"Udland\"' class=\"dre-teaser-title dre-teaser-title--margin-top dre-teaser-title--xxs-small dre-teaser-title--sm-xx-small dre-teaser-title--md-x-small\" href=\"/nyheder/udland/33-aarig-dansker-indrulleret-i-den-russiske-haer-og-krigen-mod-ukraine\"><span class=\"dre-teaser-title__text\"><span class=\"dre-title-text\">33-årig dansker indrulleret i den russiske hær og krigen mod Ukraine</span></span></a></div></div>,\n",
       " <div class=\"dre-teaser-content\"><div class=\"dre-article-teaser__text-box dre-article-teaser__text-box--transparent dre-article-teaser__text-box--xxs-4 dre-article-teaser__text-box--xs-4 dre-article-teaser__text-box--sm-4 dre-article-teaser__text-box--md-4 dre-article-teaser__text-box--lg-8 dre-article-teaser__text-box--xl-8\"><div class=\"dre-article-teaser-meta-label\"><div aria-hidden=\"true\" class=\"dre-teaser-meta\"><span class=\"dre-label-text dre-label-text--xxs-x-small\"><span class=\"dre-label-text__text\"><span class=\"dre-teaser-meta__part dre-teaser-meta__part--primary\"><span class=\"dre-teaser-meta-label dre-teaser-meta-label--primary\">Udland</span></span><span class=\"dre-teaser-meta__part\"><span class=\"dre-teaser-meta-label\">31. jul kl. 15:45</span></span></span></span></div></div><a aria-label='I 700 dage har demonstranter sunget den amerikanske nationalsang foran et fængsel - af én helt særlig grund, 31. juli klokken 15:45, fra sektionen \"Udland\"' class=\"dre-teaser-title dre-teaser-title--margin-top dre-teaser-title--xxs-small dre-teaser-title--sm-medium dre-teaser-title--md-large\" href=\"/nyheder/udland/i-700-dage-har-demonstranter-sunget-den-amerikanske-nationalsang-foran-et-faengsel-af\"><span class=\"dre-teaser-title__text\"><span class=\"dre-title-text\">I 700 dage har demonstranter sunget den amerikanske nationalsang foran et fængsel - af én helt særlig grund</span></span></a></div></div>,\n",
       " <div class=\"dre-teaser-content\"><div class=\"dre-article-teaser__text-box dre-article-teaser__text-box--transparent dre-article-teaser__text-box--xxs-2 dre-article-teaser__text-box--xs-2 dre-article-teaser__text-box--sm-2 dre-article-teaser__text-box--md-2 dre-article-teaser__text-box--lg-4 dre-article-teaser__text-box--xl-4\"><div class=\"dre-article-teaser-meta-label\"><div aria-hidden=\"true\" class=\"dre-teaser-meta\"><span class=\"dre-label-text dre-label-text--xxs-x-small\"><span class=\"dre-label-text__text\"><span class=\"dre-teaser-meta__part dre-teaser-meta__part--primary\"><span class=\"dre-teaser-meta-label dre-teaser-meta-label--primary\">Udland</span></span><span class=\"dre-teaser-meta__part\"><span class=\"dre-teaser-meta-label\">31. jul kl. 15:45</span></span></span></span></div></div><a aria-label='Fem vidner ændrede deres forklaringer væsentligt, men det ser Rwanda bort fra: Nu er dansk statsborger dømt for folkedrab, 31. juli klokken 15:45, fra sektionen \"Udland\"' class=\"dre-teaser-title dre-teaser-title--margin-top dre-teaser-title--xxs-xx-small dre-teaser-title--md-x-small\" href=\"/nyheder/udland/fem-vidner-aendrede-deres-forklaringer-vaesentligt-men-det-ser-rwanda-bort-fra-nu-er\"><span class=\"dre-teaser-title__text\"><span class=\"dre-title-text dre-title-text--prefixed\"><strong class=\"dre-title-text__prefix\">Fem vidner ændrede deres forklaringer væsentligt, men det ser Rwanda bort fra: </strong>Nu er dansk statsborger dømt for folkedrab</span></span></a></div></div>,\n",
       " <div class=\"dre-teaser-content\"><div class=\"dre-article-teaser__text-box dre-article-teaser__text-box--transparent dre-article-teaser__text-box--xxs-2 dre-article-teaser__text-box--xs-2 dre-article-teaser__text-box--sm-2 dre-article-teaser__text-box--md-2 dre-article-teaser__text-box--lg-4 dre-article-teaser__text-box--xl-4\"><div class=\"dre-article-teaser-meta-label\"><div aria-hidden=\"true\" class=\"dre-teaser-meta\"><span class=\"dre-label-text dre-label-text--xxs-x-small\"><span class=\"dre-label-text__text\"><span class=\"dre-teaser-meta__part dre-teaser-meta__part--primary\"><span class=\"dre-teaser-meta-label dre-teaser-meta-label--primary\">Udland</span></span><span class=\"dre-teaser-meta__part\"><span class=\"dre-teaser-meta-label\">31. jul kl. 13:44</span></span></span></span></div></div><a aria-label='Eksperter er ikke i tvivl om, at Iran vil hævne sig. Spørgsmålet er bare hvordan, 31. juli klokken 13:44, fra sektionen \"Udland\"' class=\"dre-teaser-title dre-teaser-title--margin-top dre-teaser-title--xxs-xx-small dre-teaser-title--md-x-small\" href=\"/nyheder/udland/eksperter-er-ikke-i-tvivl-om-iran-vil-haevne-sig-spoergsmaalet-er-bare-hvordan\"><span class=\"dre-teaser-title__text\"><span class=\"dre-title-text\">Eksperter er ikke i tvivl om, at Iran vil hævne sig. Spørgsmålet er bare hvordan</span></span></a></div></div>,\n",
       " <div class=\"dre-teaser-content\"><div class=\"dre-article-teaser__text-box dre-article-teaser__text-box--transparent dre-article-teaser__text-box--xxs-4 dre-article-teaser__text-box--xs-4 dre-article-teaser__text-box--sm-2 dre-article-teaser__text-box--md-2 dre-article-teaser__text-box--lg-4 dre-article-teaser__text-box--xl-4\"><div class=\"dre-article-teaser-meta-label\"><div aria-hidden=\"true\" class=\"dre-teaser-meta\"><span class=\"dre-label-text dre-label-text--xxs-x-small\"><span class=\"dre-label-text__text\"><span class=\"dre-teaser-meta__part dre-teaser-meta__part--primary\"><span class=\"dre-teaser-meta-label dre-teaser-meta-label--primary\">Udland</span></span><span class=\"dre-teaser-meta__part\"><span class=\"dre-teaser-meta-label\">31. jul kl. 11:48</span></span></span></span></div></div><a aria-label=\"Mens omverdenen så et 'sympatisk og pragmatisk ansigt', strammede Ismail Haniyeh grebet om palæstinenserne, 31. juli klokken 11:48, fra sektionen &quot;Udland&quot;\" class=\"dre-teaser-title dre-teaser-title--margin-top dre-teaser-title--xxs-small dre-teaser-title--sm-xx-small dre-teaser-title--md-x-small\" href=\"/nyheder/udland/mens-omverdenen-saa-et-sympatisk-og-pragmatisk-ansigt-strammede-ismail-haniyeh-grebet\"><span class=\"dre-teaser-title__text\"><span class=\"dre-title-text\">Mens omverdenen så et 'sympatisk og pragmatisk ansigt', strammede Ismail Haniyeh grebet om palæstinenserne</span></span></a></div></div>,\n",
       " <div class=\"dre-teaser-content\"><div class=\"dre-article-teaser__text-box dre-article-teaser__text-box--transparent dre-article-teaser__text-box--xxs-4 dre-article-teaser__text-box--xs-4 dre-article-teaser__text-box--sm-2 dre-article-teaser__text-box--md-2 dre-article-teaser__text-box--lg-4 dre-article-teaser__text-box--xl-4\"><div class=\"dre-article-teaser-meta-label\"><div aria-hidden=\"true\" class=\"dre-teaser-meta\"><span class=\"dre-label-text dre-label-text--xxs-x-small\"><span class=\"dre-label-text__text\"><span class=\"dre-teaser-meta__part dre-teaser-meta__part--primary\"><span class=\"dre-teaser-meta-label dre-teaser-meta-label--primary\">Udland</span></span><span class=\"dre-teaser-meta__part\"><span class=\"dre-teaser-meta-label\">31. jul kl. 11:06</span></span></span></span></div></div><a aria-label='Hamas-leder dræbt i Iran: Her er reaktionerne, 31. juli klokken 11:06, fra sektionen \"Udland\"' class=\"dre-teaser-title dre-teaser-title--margin-top dre-teaser-title--xxs-small dre-teaser-title--sm-xx-small dre-teaser-title--md-x-small\" href=\"/nyheder/udland/hamas-leder-draebt-i-iran-her-er-reaktionerne\"><span class=\"dre-teaser-title__text\"><span class=\"dre-title-text dre-title-text--prefixed\"><strong class=\"dre-title-text__prefix\">Hamas-leder dræbt i Iran: </strong>Her er reaktionerne</span></span></a></div></div>,\n",
       " <div class=\"dre-teaser-content\"><div class=\"dre-article-teaser__text-box dre-article-teaser__text-box--transparent dre-article-teaser__text-box--xxs-4 dre-article-teaser__text-box--xs-4 dre-article-teaser__text-box--sm-2 dre-article-teaser__text-box--md-2 dre-article-teaser__text-box--lg-4 dre-article-teaser__text-box--xl-4\"><div class=\"dre-article-teaser-meta-label\"><div aria-hidden=\"true\" class=\"dre-teaser-meta\"><span class=\"dre-label-text dre-label-text--xxs-x-small\"><span class=\"dre-label-text__text\"><span class=\"dre-teaser-meta__part dre-teaser-meta__part--primary\"><span class=\"dre-teaser-meta-label dre-teaser-meta-label--primary\">Udland</span></span><span class=\"dre-teaser-meta__part\"><span class=\"dre-teaser-meta-label\">31. jul kl. 06:02</span></span></span></span></div></div><a aria-label=\"Hamas kalder drab på leder en 'alvorlig eskalering' , 31. juli klokken 06:02, fra sektionen &quot;Udland&quot;\" class=\"dre-teaser-title dre-teaser-title--margin-top dre-teaser-title--xxs-small dre-teaser-title--sm-xx-small dre-teaser-title--md-x-small\" href=\"/nyheder/udland/hamas-kalder-drab-paa-leder-en-alvorlig-eskalering\"><span class=\"dre-teaser-title__text\"><span class=\"dre-title-text\">Hamas kalder drab på leder en 'alvorlig eskalering' </span></span></a></div></div>,\n",
       " <div class=\"dre-teaser-content\" style=\"background-color:#f3f0ef\"><div class=\"dre-article-teaser__text-box dre-article-teaser__text-box--badge dre-article-teaser__text-box--no-media-xxs-4 dre-article-teaser__text-box--no-media-xs-4 dre-article-teaser__text-box--no-media-sm-2 dre-article-teaser__text-box--no-media-md-2 dre-article-teaser__text-box--no-media-lg-4 dre-article-teaser__text-box--no-media-xl-4\"><div class=\"dre-article-teaser-meta-label\"><div aria-hidden=\"true\" class=\"dre-teaser-meta\"><span class=\"dre-label-text dre-label-text--xxs-x-small\"><span class=\"dre-label-text__text\"><span class=\"dre-teaser-meta__part dre-teaser-meta__part--primary\"><span class=\"dre-teaser-meta-label dre-teaser-meta-label--primary\">Udland</span></span><span class=\"dre-teaser-meta__part\"><span class=\"dre-teaser-meta-label\">30. jul kl. 19:38</span></span></span></span></div></div><a aria-label='Liveblog: Øverste Hamas-leder dræbt i Iran, 30. juli klokken 19:38, fra sektionen \"Udland\"' class=\"dre-teaser-title dre-teaser-title--margin-top dre-teaser-title--xxs-large dre-teaser-title--sm-small dre-teaser-title--md-medium\" href=\"/nyheder/udland/israelsk-militaer-bekraefter-angreb-mod-beirut\"><span class=\"dre-teaser-title__text\"><span class=\"dre-title-text\">Øverste Hamas-leder dræbt i Iran</span></span></a></div></div>,\n",
       " <div class=\"dre-teaser-content\"><div class=\"dre-article-teaser__text-box dre-article-teaser__text-box--transparent dre-article-teaser__text-box--xxs-4 dre-article-teaser__text-box--xs-4 dre-article-teaser__text-box--sm-2 dre-article-teaser__text-box--md-2 dre-article-teaser__text-box--lg-4 dre-article-teaser__text-box--xl-4\"><div class=\"dre-article-teaser-meta-label\"><div aria-hidden=\"true\" class=\"dre-teaser-meta\"><span class=\"dre-label-text dre-label-text--xxs-x-small\"><span class=\"dre-label-text__text\"><span class=\"dre-teaser-meta__part dre-teaser-meta__part--primary\"><span class=\"dre-teaser-meta-label dre-teaser-meta-label--primary\">Udland</span></span><span class=\"dre-teaser-meta__part\"><span class=\"dre-teaser-meta-label\">30. jul kl. 19:10</span></span></span></span></div></div><a aria-label='Video: Forsker: Iran er bekymret for at blive trukket mere direkte ind i konflikten, 55 sekunder, 30. juli klokken 19:10, fra sektionen \"Udland\"' class=\"dre-teaser-title dre-teaser-title--margin-top dre-teaser-title--xxs-small dre-teaser-title--sm-xx-small dre-teaser-title--md-x-small\" href=\"/nyheder/udland/forsker-iran-er-bekymret-blive-trukket-mere-direkte-ind-i-konflikten\"><span class=\"dre-teaser-title__text\"><span class=\"dre-title-text dre-title-text--prefixed\"><strong class=\"dre-title-text__prefix\">Forsker: </strong>Iran er bekymret for at blive trukket mere direkte ind i konflikten</span></span></a></div></div>,\n",
       " <div class=\"dre-teaser-content\"><div class=\"dre-article-teaser__text-box dre-article-teaser__text-box--transparent dre-article-teaser__text-box--xxs-4 dre-article-teaser__text-box--xs-4 dre-article-teaser__text-box--sm-2 dre-article-teaser__text-box--md-2 dre-article-teaser__text-box--lg-4 dre-article-teaser__text-box--xl-4\"><div class=\"dre-article-teaser-meta-label\"><div aria-hidden=\"true\" class=\"dre-teaser-meta\"><span class=\"dre-label-text dre-label-text--xxs-x-small\"><span class=\"dre-label-text__text\"><span class=\"dre-teaser-meta__part dre-teaser-meta__part--primary\"><span class=\"dre-teaser-meta-label dre-teaser-meta-label--primary\">Udland</span></span><span class=\"dre-teaser-meta__part\"><span class=\"dre-teaser-meta-label\">30. jul kl. 19:10</span></span></span></span></div></div><a aria-label='Meldinger om eksplosion i Libanons hovedstad, 30. juli klokken 19:10, fra sektionen \"Udland\"' class=\"dre-teaser-title dre-teaser-title--margin-top dre-teaser-title--xxs-small dre-teaser-title--sm-xx-small dre-teaser-title--md-x-small\" href=\"/nyheder/seneste/eksplosion-i-libanons-hovedstad\"><span class=\"dre-teaser-title__text\"><span class=\"dre-title-text\">Meldinger om eksplosion i Libanons hovedstad</span></span></a></div></div>,\n",
       " <div class=\"dre-teaser-content\"><div class=\"dre-article-teaser__text-box dre-article-teaser__text-box--transparent dre-article-teaser__text-box--xxs-4 dre-article-teaser__text-box--xs-4 dre-article-teaser__text-box--sm-2 dre-article-teaser__text-box--md-2 dre-article-teaser__text-box--lg-4 dre-article-teaser__text-box--xl-4\"><div class=\"dre-article-teaser-meta-label\"><div aria-hidden=\"true\" class=\"dre-teaser-meta\"><span class=\"dre-label-text dre-label-text--xxs-x-small\"><span class=\"dre-label-text__text\"><span class=\"dre-teaser-meta__part dre-teaser-meta__part--primary\"><span class=\"dre-teaser-meta-label dre-teaser-meta-label--primary\">Udland</span></span><span class=\"dre-teaser-meta__part\"><span class=\"dre-teaser-meta-label\">30. jul kl. 19:00</span></span></span></span></div></div><a aria-label='Ny rapport om seksuelt misbrug af kvinder i Sudans hovedstad: Ofrene er ned til 9 år gamle , 30. juli klokken 19:00, fra sektionen \"Udland\"' class=\"dre-teaser-title dre-teaser-title--margin-top dre-teaser-title--xxs-small dre-teaser-title--sm-xx-small dre-teaser-title--md-x-small\" href=\"/nyheder/udland/ny-rapport-om-seksuelt-misbrug-af-kvinder-i-sudans-hovedstad-ofrene-er-ned-til-9-aar\"><span class=\"dre-teaser-title__text\"><span class=\"dre-title-text dre-title-text--prefixed\"><strong class=\"dre-title-text__prefix\">Ny rapport om seksuelt misbrug af kvinder i Sudans hovedstad: </strong>Ofrene er ned til 9 år gamle </span></span></a></div></div>,\n",
       " <div class=\"dre-teaser-content\"><div class=\"dre-article-teaser__text-box dre-article-teaser__text-box--transparent dre-article-teaser__text-box--xxs-4 dre-article-teaser__text-box--xs-4 dre-article-teaser__text-box--sm-2 dre-article-teaser__text-box--md-2 dre-article-teaser__text-box--lg-4 dre-article-teaser__text-box--xl-4\"><div class=\"dre-article-teaser-meta-label\"><div aria-hidden=\"true\" class=\"dre-teaser-meta\"><span class=\"dre-label-text dre-label-text--xxs-x-small\"><span class=\"dre-label-text__text\"><span class=\"dre-teaser-meta__part dre-teaser-meta__part--primary\"><span class=\"dre-teaser-meta-label dre-teaser-meta-label--primary\">Udland</span></span><span class=\"dre-teaser-meta__part\"><span class=\"dre-teaser-meta-label\">30. jul kl. 13:16</span></span></span></span></div></div><a aria-label='Endnu et barn er omkommet efter knivangreb i England , 30. juli klokken 13:16, fra sektionen \"Udland\"' class=\"dre-teaser-title dre-teaser-title--margin-top dre-teaser-title--xxs-small dre-teaser-title--sm-xx-small dre-teaser-title--md-x-small\" href=\"/nyheder/udland/endnu-et-barn-er-omkommet-efter-knivangreb-i-england\"><span class=\"dre-teaser-title__text\"><span class=\"dre-title-text\">Endnu et barn er omkommet efter knivangreb i England </span></span></a></div></div>,\n",
       " <div class=\"dre-teaser-content\"><div class=\"dre-article-teaser__text-box dre-article-teaser__text-box--transparent dre-article-teaser__text-box--xxs-4 dre-article-teaser__text-box--xs-4 dre-article-teaser__text-box--sm-2 dre-article-teaser__text-box--md-2 dre-article-teaser__text-box--lg-4 dre-article-teaser__text-box--xl-4\"><div class=\"dre-article-teaser-meta-label\"><div aria-hidden=\"true\" class=\"dre-teaser-meta\"><span class=\"dre-label-text dre-label-text--xxs-x-small\"><span class=\"dre-label-text__text\"><span class=\"dre-teaser-meta__part dre-teaser-meta__part--primary\"><span class=\"dre-teaser-meta-label dre-teaser-meta-label--primary\">Valg i USA</span></span><span class=\"dre-teaser-meta__part\"><span class=\"dre-teaser-meta-label\">30. jul kl. 10:28</span></span></span></span></div></div><a aria-label=\"Biden præsenterer forslag til højesteretsreform, der 'ikke har en snebolds chance i Helvede' for at blive virkelighed, 30. juli klokken 10:28, fra sektionen &quot;Valg i USA&quot;\" class=\"dre-teaser-title dre-teaser-title--margin-top dre-teaser-title--xxs-small dre-teaser-title--sm-xx-small dre-teaser-title--md-x-small\" href=\"/nyheder/udland/valg-i-usa/biden-praesenterer-forslag-til-hoejesteretsreform-der-ikke-har-en-snebolds\"><span class=\"dre-teaser-title__text\"><span class=\"dre-title-text\">Biden præsenterer forslag til højesteretsreform, der 'ikke har en snebolds chance i Helvede' for at blive virkelighed</span></span></a></div></div>,\n",
       " <div class=\"dre-teaser-content\"><div class=\"dre-article-teaser__text-box dre-article-teaser__text-box--transparent dre-article-teaser__text-box--xxs-4 dre-article-teaser__text-box--xs-4 dre-article-teaser__text-box--sm-2 dre-article-teaser__text-box--md-2 dre-article-teaser__text-box--lg-4 dre-article-teaser__text-box--xl-4\"><div class=\"dre-article-teaser-meta-label\"><div aria-hidden=\"true\" class=\"dre-teaser-meta\"><span class=\"dre-label-text dre-label-text--xxs-x-small\"><span class=\"dre-label-text__text\"><span class=\"dre-teaser-meta__part dre-teaser-meta__part--primary\"><span class=\"dre-teaser-meta-label dre-teaser-meta-label--primary\">Udland</span></span><span class=\"dre-teaser-meta__part\"><span class=\"dre-teaser-meta-label\">30. jul kl. 09:20</span></span></span></span></div></div><a aria-label='Foto-feature: Hundredvis frygtes fanget i mudderet efter jordskred i Indien, 6 billeder, 30. juli klokken 09:20, fra sektionen \"Udland\"' class=\"dre-teaser-title dre-teaser-title--margin-top dre-teaser-title--xxs-small dre-teaser-title--sm-xx-small dre-teaser-title--md-x-small\" href=\"/nyheder/udland/hundredvis-frygtes-fanget-i-mudderet-efter-jordskred-i-indien\"><span class=\"dre-teaser-title__text\"><span class=\"dre-title-text\">Hundredvis frygtes fanget i mudderet efter jordskred i Indien</span></span></a></div></div>,\n",
       " <div class=\"dre-teaser-content\"><div class=\"dre-article-teaser__text-box dre-article-teaser__text-box--transparent dre-article-teaser__text-box--xxs-4 dre-article-teaser__text-box--xs-4 dre-article-teaser__text-box--sm-2 dre-article-teaser__text-box--md-2 dre-article-teaser__text-box--lg-4 dre-article-teaser__text-box--xl-4\"><div class=\"dre-article-teaser-meta-label\"><div aria-hidden=\"true\" class=\"dre-teaser-meta\"><span class=\"dre-label-text dre-label-text--xxs-x-small\"><span class=\"dre-label-text__text\"><span class=\"dre-teaser-meta__part dre-teaser-meta__part--primary\"><span class=\"dre-teaser-meta-label dre-teaser-meta-label--primary\">Udland</span></span><span class=\"dre-teaser-meta__part\"><span class=\"dre-teaser-meta-label\">30. jul kl. 07:00</span></span></span></span></div></div><a aria-label='Sikkerhedsstyrker i Venezuela bruger tåregas mod demonstranter efter omstridt valgresultat, 30. juli klokken 07:00, fra sektionen \"Udland\"' class=\"dre-teaser-title dre-teaser-title--margin-top dre-teaser-title--xxs-small dre-teaser-title--sm-xx-small dre-teaser-title--md-x-small\" href=\"/nyheder/udland/sikkerhedsstyrker-i-venezuela-bruger-taaregas-mod-demonstranter-efter-omstridt\"><span class=\"dre-teaser-title__text\"><span class=\"dre-title-text\">Sikkerhedsstyrker i Venezuela bruger tåregas mod demonstranter efter omstridt valgresultat</span></span></a></div></div>,\n",
       " <div class=\"dre-teaser-content\"><div class=\"dre-article-teaser__text-box dre-article-teaser__text-box--transparent dre-article-teaser__text-box--xxs-4 dre-article-teaser__text-box--xs-4 dre-article-teaser__text-box--sm-2 dre-article-teaser__text-box--md-2 dre-article-teaser__text-box--lg-4 dre-article-teaser__text-box--xl-4\"><div class=\"dre-article-teaser-meta-label\"><div aria-hidden=\"true\" class=\"dre-teaser-meta\"><span class=\"dre-label-text dre-label-text--xxs-x-small\"><span class=\"dre-label-text__text\"><span class=\"dre-teaser-meta__part dre-teaser-meta__part--primary\"><span class=\"dre-teaser-meta-label dre-teaser-meta-label--primary\">Valg i USA</span></span><span class=\"dre-teaser-meta__part\"><span class=\"dre-teaser-meta-label\">29. jul kl. 21:54</span></span></span></span></div></div><a aria-label='En af verdens rigeste mænd har delt en fake kampagnevideo - kan ifølge ekspert være en farlig tendens, 29. juli klokken 21:54, fra sektionen \"Valg i USA\"' class=\"dre-teaser-title dre-teaser-title--margin-top dre-teaser-title--xxs-small dre-teaser-title--sm-xx-small dre-teaser-title--md-x-small\" href=\"/nyheder/udland/valg-i-usa/en-af-verdens-rigeste-maend-har-delt-en-fake-kampagnevideo-kan-ifoelge\"><span class=\"dre-teaser-title__text\"><span class=\"dre-title-text\">En af verdens rigeste mænd har delt en fake kampagnevideo - kan ifølge ekspert være en farlig tendens</span></span></a></div></div>,\n",
       " <div class=\"dre-teaser-content\"><div class=\"dre-article-teaser__text-box dre-article-teaser__text-box--transparent dre-article-teaser__text-box--xxs-4 dre-article-teaser__text-box--xs-4 dre-article-teaser__text-box--sm-2 dre-article-teaser__text-box--md-2 dre-article-teaser__text-box--lg-4 dre-article-teaser__text-box--xl-4\"><div class=\"dre-article-teaser-meta-label\"><div aria-hidden=\"true\" class=\"dre-teaser-meta\"><span class=\"dre-label-text dre-label-text--xxs-x-small\"><span class=\"dre-label-text__text\"><span class=\"dre-teaser-meta__part dre-teaser-meta__part--primary\"><span class=\"dre-teaser-meta-label dre-teaser-meta-label--primary\">Udland</span></span><span class=\"dre-teaser-meta__part\"><span class=\"dre-teaser-meta-label\">29. jul kl. 21:27</span></span></span></span></div></div><a aria-label=\"Efterforskning fortsætter i Frankrig: Tog-sabotage ligner tidligere aktioner fra 'venstrefløjsterrorister' , 29. juli klokken 21:27, fra sektionen &quot;Udland&quot;\" class=\"dre-teaser-title dre-teaser-title--margin-top dre-teaser-title--xxs-small dre-teaser-title--sm-xx-small dre-teaser-title--md-x-small\" href=\"/nyheder/udland/efterforskning-fortsaetter-i-frankrig-tog-sabotage-ligner-tidligere-aktioner-fra\"><span class=\"dre-teaser-title__text\"><span class=\"dre-title-text dre-title-text--prefixed\"><strong class=\"dre-title-text__prefix\">Efterforskning fortsætter i Frankrig: </strong>Tog-sabotage ligner tidligere aktioner fra 'venstrefløjsterrorister' </span></span></a></div></div>,\n",
       " <div class=\"dre-teaser-content\"><div class=\"dre-article-teaser__text-box dre-article-teaser__text-box--transparent dre-article-teaser__text-box--xxs-4 dre-article-teaser__text-box--xs-4 dre-article-teaser__text-box--sm-2 dre-article-teaser__text-box--md-2 dre-article-teaser__text-box--lg-4 dre-article-teaser__text-box--xl-4\"><div class=\"dre-article-teaser-meta-label\"><div aria-hidden=\"true\" class=\"dre-teaser-meta\"><span class=\"dre-label-text dre-label-text--xxs-x-small\"><span class=\"dre-label-text__text\"><span class=\"dre-teaser-meta__part dre-teaser-meta__part--primary\"><span class=\"dre-teaser-meta-label dre-teaser-meta-label--primary\">Udland</span></span><span class=\"dre-teaser-meta__part\"><span class=\"dre-teaser-meta-label\">29. jul kl. 20:58</span></span></span></span></div></div><a aria-label='Ekspert: Indenrigspolitisk pres får Erdogan til at true med at indtage Israel , 29. juli klokken 20:58, fra sektionen \"Udland\"' class=\"dre-teaser-title dre-teaser-title--margin-top dre-teaser-title--xxs-small dre-teaser-title--sm-xx-small dre-teaser-title--md-x-small\" href=\"/nyheder/udland/indenrigspolitisk-pres-faar-erdogan-til-true-med-indtage-israel\"><span class=\"dre-teaser-title__text\"><span class=\"dre-title-text dre-title-text--prefixed\"><strong class=\"dre-title-text__prefix\">Ekspert: </strong>Indenrigspolitisk pres får Erdogan til at true med at indtage Israel </span></span></a></div></div>,\n",
       " <div class=\"dre-teaser-content\"><div class=\"dre-article-teaser__text-box dre-article-teaser__text-box--transparent dre-article-teaser__text-box--xxs-4 dre-article-teaser__text-box--xs-4 dre-article-teaser__text-box--sm-2 dre-article-teaser__text-box--md-2 dre-article-teaser__text-box--lg-4 dre-article-teaser__text-box--xl-4\"><div class=\"dre-article-teaser-meta-label\"><div aria-hidden=\"true\" class=\"dre-teaser-meta\"><span class=\"dre-label-text dre-label-text--xxs-x-small\"><span class=\"dre-label-text__text\"><span class=\"dre-teaser-meta__part dre-teaser-meta__part--primary\"><span class=\"dre-teaser-meta-label dre-teaser-meta-label--primary\">Udland</span></span><span class=\"dre-teaser-meta__part\"><span class=\"dre-teaser-meta-label\">29. jul kl. 20:19</span></span></span></span></div></div><a aria-label='To børn er dræbt efter knivstik i England, 29. juli klokken 20:19, fra sektionen \"Udland\"' class=\"dre-teaser-title dre-teaser-title--margin-top dre-teaser-title--xxs-small dre-teaser-title--sm-xx-small dre-teaser-title--md-x-small\" href=\"/nyheder/seneste/boern-er-draebt-efter-knivstik-i-england\"><span class=\"dre-teaser-title__text\"><span class=\"dre-title-text\">To børn er dræbt efter knivstik i England</span></span></a></div></div>,\n",
       " <div class=\"dre-teaser-content\"><div class=\"dre-article-teaser__text-box dre-article-teaser__text-box--transparent dre-article-teaser__text-box--xxs-4 dre-article-teaser__text-box--xs-4 dre-article-teaser__text-box--sm-2 dre-article-teaser__text-box--md-2 dre-article-teaser__text-box--lg-4 dre-article-teaser__text-box--xl-4\"><div class=\"dre-article-teaser-meta-label\"><div aria-hidden=\"true\" class=\"dre-teaser-meta\"><span class=\"dre-label-text dre-label-text--xxs-x-small\"><span class=\"dre-label-text__text\"><span class=\"dre-teaser-meta__part dre-teaser-meta__part--primary\"><span class=\"dre-teaser-meta-label dre-teaser-meta-label--primary\">Valg i USA</span></span><span class=\"dre-teaser-meta__part\"><span class=\"dre-teaser-meta-label\">29. jul kl. 19:48</span></span></span></span></div></div><a aria-label='Video: Chefredaktør ser kvindekampen som Harris’ trumfkort mod Trump, 48 sekunder, 29. juli klokken 19:48, fra sektionen \"Valg i USA\"' class=\"dre-teaser-title dre-teaser-title--margin-top dre-teaser-title--xxs-small dre-teaser-title--sm-xx-small dre-teaser-title--md-x-small\" href=\"/nyheder/udland/valg-i-usa/chefredaktoer-ser-kvindekampen-som-harris-trumfkort-mod-trump\"><span class=\"dre-teaser-title__text\"><span class=\"dre-title-text\">Chefredaktør ser kvindekampen som Harris’ trumfkort mod Trump</span></span></a></div></div>,\n",
       " <div class=\"dre-teaser-content\"><div class=\"dre-article-teaser__text-box dre-article-teaser__text-box--transparent dre-article-teaser__text-box--xxs-4 dre-article-teaser__text-box--xs-4 dre-article-teaser__text-box--sm-2 dre-article-teaser__text-box--md-2 dre-article-teaser__text-box--lg-4 dre-article-teaser__text-box--xl-4\"><div class=\"dre-article-teaser-meta-label\"><div aria-hidden=\"true\" class=\"dre-teaser-meta\"><span class=\"dre-label-text dre-label-text--xxs-x-small\"><span class=\"dre-label-text__text\"><span class=\"dre-teaser-meta__part dre-teaser-meta__part--primary\"><span class=\"dre-teaser-meta-label dre-teaser-meta-label--primary\">Valg i USA</span></span><span class=\"dre-teaser-meta__part\"><span class=\"dre-teaser-meta-label\">29. jul kl. 13:12</span></span></span></span></div></div><a aria-label=\"Kaldte Kamala Harris for barnløs kattedame: 'Det var en sarkastisk bemærkning', 29. juli klokken 13:12, fra sektionen &quot;Valg i USA&quot;\" class=\"dre-teaser-title dre-teaser-title--margin-top dre-teaser-title--xxs-small dre-teaser-title--sm-xx-small dre-teaser-title--md-x-small\" href=\"/nyheder/udland/valg-i-usa/kaldte-kamala-harris-barnloes-kattedame-det-var-en-sarkastisk-bemaerkning\"><span class=\"dre-teaser-title__text\"><span class=\"dre-title-text dre-title-text--prefixed\"><strong class=\"dre-title-text__prefix\">Kaldte Kamala Harris for barnløs kattedame: </strong>'Det var en sarkastisk bemærkning'</span></span></a></div></div>,\n",
       " <div class=\"dre-teaser-content\"><div class=\"dre-article-teaser__text-box dre-article-teaser__text-box--transparent dre-article-teaser__text-box--xxs-4 dre-article-teaser__text-box--xs-4 dre-article-teaser__text-box--sm-2 dre-article-teaser__text-box--md-2 dre-article-teaser__text-box--lg-4 dre-article-teaser__text-box--xl-4\"><div class=\"dre-article-teaser-meta-label\"><div aria-hidden=\"true\" class=\"dre-teaser-meta\"><span class=\"dre-label-text dre-label-text--xxs-x-small\"><span class=\"dre-label-text__text\"><span class=\"dre-teaser-meta__part dre-teaser-meta__part--primary\"><span class=\"dre-teaser-meta-label dre-teaser-meta-label--primary\">Udland</span></span><span class=\"dre-teaser-meta__part\"><span class=\"dre-teaser-meta-label\">29. jul kl. 10:25</span></span></span></span></div></div><a aria-label='Maduro erklærer sig som sejrherre i Venezuela - oppositionen gør det samme, 29. juli klokken 10:25, fra sektionen \"Udland\"' class=\"dre-teaser-title dre-teaser-title--margin-top dre-teaser-title--xxs-small dre-teaser-title--sm-xx-small dre-teaser-title--md-x-small\" href=\"/nyheder/udland/maduro-erklaerer-sig-som-sejrherre-i-venezuela-oppositionen-goer-det-samme\"><span class=\"dre-teaser-title__text\"><span class=\"dre-title-text\">Maduro erklærer sig som sejrherre i Venezuela - oppositionen gør det samme</span></span></a></div></div>,\n",
       " <div class=\"dre-teaser-content\"><div class=\"dre-article-teaser__text-box dre-article-teaser__text-box--transparent dre-article-teaser__text-box--xxs-4 dre-article-teaser__text-box--xs-4 dre-article-teaser__text-box--sm-3 dre-article-teaser__text-box--md-3 dre-article-teaser__text-box--lg-6 dre-article-teaser__text-box--xl-6\"><div class=\"dre-article-teaser-meta-label\"><div aria-hidden=\"true\" class=\"dre-teaser-meta\"><span class=\"dre-label-text dre-label-text--xxs-x-small\"><span class=\"dre-label-text__text\"><span class=\"dre-teaser-meta__part dre-teaser-meta__part--primary\"><span class=\"dre-teaser-meta-label dre-teaser-meta-label--primary\">Valg i USA</span></span><span class=\"dre-teaser-meta__part\"><span class=\"dre-teaser-meta-label\">29. jul kl. 06:20</span></span></span></span></div></div><a aria-label='Elon Musk deler falsk AI-kampagnevideo om Kamala Harris, 29. juli klokken 06:20, fra sektionen \"Valg i USA\"' class=\"dre-teaser-title dre-teaser-title--margin-top dre-teaser-title--xxs-small\" href=\"/nyheder/udland/valg-i-usa/elon-musk-deler-falsk-ai-kampagnevideo-med-kamala-harris\"><span class=\"dre-teaser-title__text\"><span class=\"dre-title-text\">Elon Musk deler falsk AI-kampagnevideo om Kamala Harris</span></span></a></div></div>,\n",
       " <div class=\"dre-teaser-content\"><div class=\"dre-article-teaser__text-box dre-article-teaser__text-box--transparent dre-article-teaser__text-box--xxs-4 dre-article-teaser__text-box--xs-4 dre-article-teaser__text-box--sm-3 dre-article-teaser__text-box--md-3 dre-article-teaser__text-box--lg-6 dre-article-teaser__text-box--xl-6\"><div class=\"dre-article-teaser-meta-label\"><div aria-hidden=\"true\" class=\"dre-teaser-meta\"><span class=\"dre-label-text dre-label-text--xxs-x-small\"><span class=\"dre-label-text__text\"><span class=\"dre-teaser-meta__part dre-teaser-meta__part--primary\"><span class=\"dre-teaser-meta-label dre-teaser-meta-label--primary\">Udland</span></span><span class=\"dre-teaser-meta__part\"><span class=\"dre-teaser-meta-label\">28. jul kl. 22:14</span></span></span></span></div></div><a aria-label='Korrespondent: Netanyahu og Gallant får lov til at træffe sidste beslutning om modsvar , 28. juli klokken 22:14, fra sektionen \"Udland\"' class=\"dre-teaser-title dre-teaser-title--margin-top dre-teaser-title--xxs-small\" href=\"/nyheder/seneste/korrespondent-netanyahu-og-gallant-faar-lov-til-traeffe-sidste-beslutning-om-modsvar\"><span class=\"dre-teaser-title__text\"><span class=\"dre-title-text dre-title-text--prefixed\"><strong class=\"dre-title-text__prefix\">Korrespondent: </strong>Netanyahu og Gallant får lov til at træffe sidste beslutning om modsvar </span></span></a></div></div>]"
      ]
     },
     "execution_count": 6,
     "metadata": {},
     "output_type": "execute_result"
    }
   ],
   "source": [
    "articles"
   ]
  },
  {
   "cell_type": "markdown",
   "metadata": {
    "slideshow": {
     "slide_type": "subslide"
    }
   },
   "source": [
    "#### Now we want the links to all the articles:\n",
    "First, I show how to find the link for *one* article, and afterwards I show how to loop through all article links"
   ]
  },
  {
   "cell_type": "markdown",
   "metadata": {
    "slideshow": {
     "slide_type": "fragment"
    }
   },
   "source": [
    "You can use [`find`](https://www.crummy.com/software/BeautifulSoup/bs4/doc/#find) to find the *first* element. In the code below it is the first element that has the tag ```<a>```.\n",
    "\n",
    "You can use `['href']` to select the attribute. Here we are interested in the content of the href attribute."
   ]
  },
  {
   "cell_type": "code",
   "execution_count": 7,
   "metadata": {
    "slideshow": {
     "slide_type": "fragment"
    }
   },
   "outputs": [
    {
     "name": "stdout",
     "output_type": "stream",
     "text": [
      "/nyheder/udland/skovbrand-i-californien-er-tre-gange-saa-stor-som-bornholm\n"
     ]
    }
   ],
   "source": [
    "# First find the \"link\" tag in the HTML\n",
    "article_link = articles[0].find('a') #(We are only taking the first article)\n",
    "# Then locate the URL in the href attribute\n",
    "article_url = article_link['href']\n",
    "print(article_url)"
   ]
  },
  {
   "cell_type": "code",
   "execution_count": 8,
   "metadata": {
    "slideshow": {
     "slide_type": "fragment"
    }
   },
   "outputs": [
    {
     "name": "stdout",
     "output_type": "stream",
     "text": [
      "/nyheder/udland/skovbrand-i-californien-er-tre-gange-saa-stor-som-bornholm\n"
     ]
    }
   ],
   "source": [
    "# Another way to find the tag is by writing `.a` instead of `.find('a')`:\n",
    "article_link = articles[0].a\n",
    "article_url = article_link['href']\n",
    "print(article_url)"
   ]
  },
  {
   "cell_type": "markdown",
   "metadata": {
    "slideshow": {
     "slide_type": "subslide"
    }
   },
   "source": [
    "#### We create a list of URLs that we want to scrape:"
   ]
  },
  {
   "cell_type": "code",
   "execution_count": 9,
   "metadata": {
    "slideshow": {
     "slide_type": "fragment"
    }
   },
   "outputs": [],
   "source": [
    "# Create an empty list\n",
    "list_of_article_urls = []\n",
    "\n",
    "# Creating a loop that appends the article url to the list above\n",
    "for i in range(len(articles)):\n",
    "    list_of_article_urls.append(articles[i].find('a')['href'])"
   ]
  },
  {
   "cell_type": "code",
   "execution_count": 10,
   "metadata": {
    "scrolled": true,
    "slideshow": {
     "slide_type": "fragment"
    }
   },
   "outputs": [
    {
     "data": {
      "text/plain": [
       "['/nyheder/udland/skovbrand-i-californien-er-tre-gange-saa-stor-som-bornholm',\n",
       " '/nyheder/udland/se-billederne-southport-protester-har-naaet-et-nyt-niveau',\n",
       " '/nyheder/udland/premierminister-starmer-fordoemmer-uroligheder-som-har-spredt-sig-til-flere-engelske',\n",
       " '/nyheder/udland/tre-russere-ville-oenske-vesten-ikke-havde-hjulpet-dem-ud-af-putins-greb-de-er-blevet',\n",
       " '/nyheder/udland/amerikansk-forsvarsminister-dropper-aftaler-med-911-gerningsmaend',\n",
       " '/nyheder/udland/loekke-om-hjaelp-til-33-aarige-dansker-i-russisk-haer-vi-staar-klar-men-kan-naeppe',\n",
       " '/nyheder/udland/sjaelden-indroemmelse-fra-kreml-tre-udvekslede-fanger-var-russiske-spioner',\n",
       " '/nyheder/seneste/kamala-harris-er-nu-officielt-demokraternes-praesidentkandidat-har-faaet-nok-stemmer',\n",
       " '/nyheder/udland/engelske-byer-og-moskeer-skruer-op-sikkerheden-i-weekenden-frygter-nye-optoejer',\n",
       " '/nyheder/udland/nyt-studie-norske-vikinger-var-mere-voldelige-end-danske',\n",
       " '/nyheder/udland/fangeudveksling-er-en-sejr-biden-og-harris-det-vil-nok-blive-brugt-i-valgkampen',\n",
       " '/nyheder/udland/usa-modsiger-venezuelas-praesident-du-tabte-valget',\n",
       " '/nyheder/udland/tredje-gang-i-tyve-aar-erklaeres-der-hungersnoed-i-afrika-100-mennesker-sulter-ihjel',\n",
       " '/nyheder/seneste/qatars-emir-og-flere-hoejtstaaende-hamas-folk-deltog-i-ismail-haniyehs-begravelse',\n",
       " '/nyheder/udland/voldsomme-regnskyl-oversvoemmer-gader-og-boliger-i-pakistans-naeststoerste',\n",
       " '/nyheder/udland/hele-southport-soerger-over-knivdrabet-paa-de-tre-piger-paa-seks-syv-og-ni-aar',\n",
       " '/nyheder/seneste/tre-loesladte-fanger-i-historisk-udveksling-er-landet-paa-amerikansk-jord',\n",
       " '/nyheder/udland/historisk-fangeudveksling-mellem-rusland-og-vesten-hvem-er-de',\n",
       " '/nyheder/udland/dommer-afliver-rygter-om-formodet-drabsmand-efter-voldsomme-hoejreradikale-optoejer-i',\n",
       " '/nyheder/udland/vejen-til-vaabenhvile-har-lange-udsigter-efter-eskalering-i-mellemoesten',\n",
       " '/nyheder/udland/valg-i-usa/kamala-harris-udfordrer-trump-til-debat-til-tonerne-af-amerikansk-rappers',\n",
       " '/nyheder/seneste/stor-fangeudveksling-paa-vej-russisk-fly-landet-i-tyrkiet',\n",
       " '/nyheder/udland/1975-forsanger-kritiserede-anti-lgbt-lovgivning-nu-har-malaysisk-festival-sagsoegt',\n",
       " '/nyheder/udland/iran-har-svaerget-man-vil-tage-haevn-drabet-paa-hamas-politiske-leder',\n",
       " '/nyheder/udland/valg-i-usa/demokraterne-har-fundet-et-ord-der-muligvis-kan-slaa-trump',\n",
       " '/nyheder/udland/massiv-rygtestroem-efter-boernedrab-i-southport-voldelige-protester-har-bredt-sig',\n",
       " '/nyheder/udland/33-aarig-dansker-indrulleret-i-den-russiske-haer-og-krigen-mod-ukraine',\n",
       " '/nyheder/udland/i-700-dage-har-demonstranter-sunget-den-amerikanske-nationalsang-foran-et-faengsel-af',\n",
       " '/nyheder/udland/fem-vidner-aendrede-deres-forklaringer-vaesentligt-men-det-ser-rwanda-bort-fra-nu-er',\n",
       " '/nyheder/udland/eksperter-er-ikke-i-tvivl-om-iran-vil-haevne-sig-spoergsmaalet-er-bare-hvordan',\n",
       " '/nyheder/udland/mens-omverdenen-saa-et-sympatisk-og-pragmatisk-ansigt-strammede-ismail-haniyeh-grebet',\n",
       " '/nyheder/udland/hamas-leder-draebt-i-iran-her-er-reaktionerne',\n",
       " '/nyheder/udland/hamas-kalder-drab-paa-leder-en-alvorlig-eskalering',\n",
       " '/nyheder/udland/israelsk-militaer-bekraefter-angreb-mod-beirut',\n",
       " '/nyheder/udland/forsker-iran-er-bekymret-blive-trukket-mere-direkte-ind-i-konflikten',\n",
       " '/nyheder/seneste/eksplosion-i-libanons-hovedstad',\n",
       " '/nyheder/udland/ny-rapport-om-seksuelt-misbrug-af-kvinder-i-sudans-hovedstad-ofrene-er-ned-til-9-aar',\n",
       " '/nyheder/udland/endnu-et-barn-er-omkommet-efter-knivangreb-i-england',\n",
       " '/nyheder/udland/valg-i-usa/biden-praesenterer-forslag-til-hoejesteretsreform-der-ikke-har-en-snebolds',\n",
       " '/nyheder/udland/hundredvis-frygtes-fanget-i-mudderet-efter-jordskred-i-indien',\n",
       " '/nyheder/udland/sikkerhedsstyrker-i-venezuela-bruger-taaregas-mod-demonstranter-efter-omstridt',\n",
       " '/nyheder/udland/valg-i-usa/en-af-verdens-rigeste-maend-har-delt-en-fake-kampagnevideo-kan-ifoelge',\n",
       " '/nyheder/udland/efterforskning-fortsaetter-i-frankrig-tog-sabotage-ligner-tidligere-aktioner-fra',\n",
       " '/nyheder/udland/indenrigspolitisk-pres-faar-erdogan-til-true-med-indtage-israel',\n",
       " '/nyheder/seneste/boern-er-draebt-efter-knivstik-i-england',\n",
       " '/nyheder/udland/valg-i-usa/chefredaktoer-ser-kvindekampen-som-harris-trumfkort-mod-trump',\n",
       " '/nyheder/udland/valg-i-usa/kaldte-kamala-harris-barnloes-kattedame-det-var-en-sarkastisk-bemaerkning',\n",
       " '/nyheder/udland/maduro-erklaerer-sig-som-sejrherre-i-venezuela-oppositionen-goer-det-samme',\n",
       " '/nyheder/udland/valg-i-usa/elon-musk-deler-falsk-ai-kampagnevideo-med-kamala-harris',\n",
       " '/nyheder/seneste/korrespondent-netanyahu-og-gallant-faar-lov-til-traeffe-sidste-beslutning-om-modsvar']"
      ]
     },
     "execution_count": 10,
     "metadata": {},
     "output_type": "execute_result"
    }
   ],
   "source": [
    "list_of_article_urls"
   ]
  },
  {
   "cell_type": "markdown",
   "metadata": {
    "slideshow": {
     "slide_type": "subslide"
    }
   },
   "source": [
    "#### Some of the links are not to articles \n",
    "\n",
    "So we write this code to only keep the article links:"
   ]
  },
  {
   "cell_type": "code",
   "execution_count": 11,
   "metadata": {
    "slideshow": {
     "slide_type": "fragment"
    }
   },
   "outputs": [],
   "source": [
    "list_of_article_urls_final = []\n",
    "for link in list_of_article_urls:\n",
    "    if '/nyheder/udland' in link: #All article URLs have this string in them, so we restrict on it being in the URL\n",
    "        list_of_article_urls_final.append(link)"
   ]
  },
  {
   "cell_type": "markdown",
   "metadata": {
    "slideshow": {
     "slide_type": "slide"
    }
   },
   "source": [
    "## 2. DOWNLOADING + 3. PARSING"
   ]
  },
  {
   "cell_type": "markdown",
   "metadata": {
    "slideshow": {
     "slide_type": "subslide"
    }
   },
   "source": [
    "#### Now we are ready to scrape each webpage from the URL list:\n",
    "First, I will show you the procedure for *one* link, and then I will show you how to scrape the first 10 articles"
   ]
  },
  {
   "cell_type": "code",
   "execution_count": 12,
   "metadata": {
    "slideshow": {
     "slide_type": "fragment"
    }
   },
   "outputs": [],
   "source": [
    "# Creating empty list for the infomation we want to extract for every article\n",
    "title_list = []\n",
    "lead_list = []\n",
    "time_list = []\n",
    "\n",
    "# This time we scrape for each news article in the url list we created before\n",
    "url = 'https://www.dr.dk' + list_of_article_urls_final[0] #The scraped links are relative, so we need to add the base URL (Here we have just taken the first link)\n",
    "response = requests.get(url)\n",
    "soup = BeautifulSoup(response.content,'lxml')"
   ]
  },
  {
   "cell_type": "code",
   "execution_count": 13,
   "metadata": {
    "slideshow": {
     "slide_type": "fragment"
    }
   },
   "outputs": [],
   "source": [
    "# Find title\n",
    "temp = soup.find_all('h1')\n",
    "temp = temp[1]\n",
    "temp = temp.text.strip() #Use strip() to get rid of trailing and leading spaces\n",
    "title_list.append(temp)"
   ]
  },
  {
   "cell_type": "code",
   "execution_count": 14,
   "metadata": {
    "slideshow": {
     "slide_type": "fragment"
    }
   },
   "outputs": [],
   "source": [
    "# Find lead\n",
    "temp = soup.find('p', class_='dre-article-title__summary')\n",
    "temp = temp.text.strip()\n",
    "lead_list.append(temp)"
   ]
  },
  {
   "cell_type": "code",
   "execution_count": 15,
   "metadata": {
    "slideshow": {
     "slide_type": "fragment"
    }
   },
   "outputs": [],
   "source": [
    "# Find time posted\n",
    "temp = soup.find('time', class_='dre-byline__date')\n",
    "temp = temp['datetime']\n",
    "time_list.append(temp)"
   ]
  },
  {
   "cell_type": "markdown",
   "metadata": {
    "slideshow": {
     "slide_type": "subslide"
    }
   },
   "source": [
    "#### Combine all of the code above in a loop to scrape the first 10 articles:"
   ]
  },
  {
   "cell_type": "code",
   "execution_count": 16,
   "metadata": {
    "slideshow": {
     "slide_type": "fragment"
    }
   },
   "outputs": [],
   "source": [
    "# We want to extract title, lead and time posted from the articles\n",
    "\n",
    "# Creatig empty list for the infomation we want to extract for every article\n",
    "title_list = []\n",
    "lead_list = []\n",
    "time_list = []\n",
    "\n",
    "for i in range(10): #len(list_of_article_urls)\n",
    "    \n",
    "    # This time we scrape for each news article in the url list we created before\n",
    "    url = 'https://www.dr.dk' + list_of_article_urls_final[i] #The scraped links are relative, so we need to add the base url\n",
    "    response = requests.get(url)\n",
    "    soup = BeautifulSoup(response.content,'lxml')\n",
    "    \n",
    "    # Append title to list\n",
    "    temp = soup.find_all('h1')\n",
    "    temp = temp[1]\n",
    "    temp = temp.text.strip()\n",
    "    title_list.append(temp)\n",
    "    \n",
    "    # Append lead to list\n",
    "    temp = soup.find('p', class_='dre-article-title__summary')\n",
    "    temp = temp.text.strip()\n",
    "    lead_list.append(temp)\n",
    "\n",
    "    # Append time posted to list\n",
    "    temp = soup.find('time', class_='dre-byline__date')\n",
    "    temp = temp['datetime']\n",
    "    time_list.append(temp)"
   ]
  },
  {
   "cell_type": "code",
   "execution_count": 17,
   "metadata": {
    "slideshow": {
     "slide_type": "subslide"
    }
   },
   "outputs": [
    {
     "data": {
      "text/plain": [
       "['Skovbrand i Californien er tre gange så stor som Bornholm',\n",
       " 'Se billederne: Southport-protester har nået et nyt niveau',\n",
       " 'Premierminister Starmer fordømmer uroligheder, som har spredt sig til flere engelske byer',\n",
       " \"Tre russere ville ønske, at Vesten ikke havde hjulpet dem ud af Putins greb: 'De er blevet politisk kastreret'\",\n",
       " 'Amerikansk forsvarsminister dropper aftaler med 9/11-gerningsmænd',\n",
       " 'Løkke om hjælp til 33-årige dansker i russisk hær: Vi står klar - men kan næppe gøre meget',\n",
       " 'Sjælden indrømmelse fra Kreml: Tre udvekslede fanger var russiske spioner',\n",
       " 'Engelske byer og moskeer skruer op for sikkerheden i weekenden: Frygter nye optøjer',\n",
       " 'Nyt studie: Norske vikinger var mere voldelige end danske',\n",
       " \"Fangeudveksling er en sejr for Biden og Harris: 'Det vil nok blive brugt i valgkampen'\"]"
      ]
     },
     "execution_count": 17,
     "metadata": {},
     "output_type": "execute_result"
    }
   ],
   "source": [
    "title_list"
   ]
  },
  {
   "cell_type": "code",
   "execution_count": 23,
   "metadata": {
    "scrolled": true,
    "slideshow": {
     "slide_type": "subslide"
    }
   },
   "outputs": [
    {
     "data": {
      "text/plain": [
       "[\"Joe Biden har været nødt til erkende, at faklen skal gives videre, lyder det fra Philip Khokhar, DR's USA-korrespondent.\",\n",
       " 'Forud for Netanyahus tale havde demonstranter vist deres utilfredshed med den amerikanske støtte til Israel.',\n",
       " 'I årtier har de to lande skændes om, hvor kebabretten stammer fra.',\n",
       " 'Ungdommens kontinent er i oprør. Generation Z har fået nok i flere lande og kræver forandring.',\n",
       " 'Især den oprindelige befolkning, māorierne, har været udsat for overgreb.',\n",
       " \"På Kamala Harris' første vælgermøde så vi en klassisk valgkampstale, siger retoriker.\",\n",
       " 'Netanyahus besøg i USA har givet anledning til at diskutere Kamala Harris’ syn på Israel.',\n",
       " 'Harris har holdt sit første vælgermøde i svingstaten Wisconsin, hvor hun talte om alt fra Trump til abort.',\n",
       " 'Israels Netanyahu afviser, at der er tale om ulovlige besættelser. Han siger, han vil præsentere \"sandheden om vores retfærdige krig\" i Kongressen i USA, hvor han skal tale i dag.',\n",
       " 'Ifølge DR’s USA-korrespondent er der ikke længere tvivl om, hvem der bliver Demokraternes præsidentkandidat.']"
      ]
     },
     "execution_count": 23,
     "metadata": {},
     "output_type": "execute_result"
    }
   ],
   "source": [
    "lead_list"
   ]
  },
  {
   "cell_type": "code",
   "execution_count": 18,
   "metadata": {
    "slideshow": {
     "slide_type": "subslide"
    }
   },
   "outputs": [
    {
     "data": {
      "text/plain": [
       "['2024-08-04T05:08:00+00:00',\n",
       " '2024-08-04T05:03:00+00:00',\n",
       " '2024-08-03T20:21:00+00:00',\n",
       " '2024-08-03T16:39:00+00:00',\n",
       " '2024-08-03T04:43:00+00:00',\n",
       " '2024-08-02T18:25:00+00:00',\n",
       " '2024-08-02T17:32:00+00:00',\n",
       " '2024-08-02T16:44:00+00:00',\n",
       " '2024-08-02T15:30:00+00:00',\n",
       " '2024-08-02T14:47:00+00:00']"
      ]
     },
     "execution_count": 18,
     "metadata": {},
     "output_type": "execute_result"
    }
   ],
   "source": [
    "time_list"
   ]
  },
  {
   "cell_type": "markdown",
   "metadata": {
    "slideshow": {
     "slide_type": "subslide"
    }
   },
   "source": [
    "#### Lastly, we put our collected information into a dataframe:"
   ]
  },
  {
   "cell_type": "code",
   "execution_count": 19,
   "metadata": {
    "slideshow": {
     "slide_type": "fragment"
    }
   },
   "outputs": [
    {
     "data": {
      "text/html": [
       "<div>\n",
       "<style scoped>\n",
       "    .dataframe tbody tr th:only-of-type {\n",
       "        vertical-align: middle;\n",
       "    }\n",
       "\n",
       "    .dataframe tbody tr th {\n",
       "        vertical-align: top;\n",
       "    }\n",
       "\n",
       "    .dataframe thead th {\n",
       "        text-align: right;\n",
       "    }\n",
       "</style>\n",
       "<table border=\"1\" class=\"dataframe\">\n",
       "  <thead>\n",
       "    <tr style=\"text-align: right;\">\n",
       "      <th></th>\n",
       "      <th>title</th>\n",
       "      <th>lead</th>\n",
       "      <th>time</th>\n",
       "    </tr>\n",
       "  </thead>\n",
       "  <tbody>\n",
       "    <tr>\n",
       "      <th>0</th>\n",
       "      <td>Skovbrand i Californien er tre gange så stor s...</td>\n",
       "      <td>Park Fire har slugt hundredvis af bygninger og...</td>\n",
       "      <td>2024-08-04T05:08:00+00:00</td>\n",
       "    </tr>\n",
       "    <tr>\n",
       "      <th>1</th>\n",
       "      <td>Se billederne: Southport-protester har nået et...</td>\n",
       "      <td>En 17-årig dreng dræbte i mandags tre piger ti...</td>\n",
       "      <td>2024-08-04T05:03:00+00:00</td>\n",
       "    </tr>\n",
       "    <tr>\n",
       "      <th>2</th>\n",
       "      <td>Premierminister Starmer fordømmer uroligheder,...</td>\n",
       "      <td>Der meldes om uroligheder i blandt andet Liver...</td>\n",
       "      <td>2024-08-03T20:21:00+00:00</td>\n",
       "    </tr>\n",
       "    <tr>\n",
       "      <th>3</th>\n",
       "      <td>Tre russere ville ønske, at Vesten ikke havde ...</td>\n",
       "      <td>Tre russiske politiske fanger er kommet til Ty...</td>\n",
       "      <td>2024-08-03T16:39:00+00:00</td>\n",
       "    </tr>\n",
       "    <tr>\n",
       "      <th>4</th>\n",
       "      <td>Amerikansk forsvarsminister dropper aftaler me...</td>\n",
       "      <td>Retssagen mod den formodede hovedmand bag terr...</td>\n",
       "      <td>2024-08-03T04:43:00+00:00</td>\n",
       "    </tr>\n",
       "    <tr>\n",
       "      <th>5</th>\n",
       "      <td>Løkke om hjælp til 33-årige dansker i russisk ...</td>\n",
       "      <td>Udenrigsministeren understreger, at bistand fr...</td>\n",
       "      <td>2024-08-02T18:25:00+00:00</td>\n",
       "    </tr>\n",
       "    <tr>\n",
       "      <th>6</th>\n",
       "      <td>Sjælden indrømmelse fra Kreml: Tre udvekslede ...</td>\n",
       "      <td>To spioners børn vidste ikke, at de var russer...</td>\n",
       "      <td>2024-08-02T17:32:00+00:00</td>\n",
       "    </tr>\n",
       "    <tr>\n",
       "      <th>7</th>\n",
       "      <td>Engelske byer og moskeer skruer op for sikkerh...</td>\n",
       "      <td>Borgmesteren i Southport, hvor knivangrebet ba...</td>\n",
       "      <td>2024-08-02T16:44:00+00:00</td>\n",
       "    </tr>\n",
       "    <tr>\n",
       "      <th>8</th>\n",
       "      <td>Nyt studie: Norske vikinger var mere voldelige...</td>\n",
       "      <td>Skeletter fra vikinger fundet i Norge har fler...</td>\n",
       "      <td>2024-08-02T15:30:00+00:00</td>\n",
       "    </tr>\n",
       "    <tr>\n",
       "      <th>9</th>\n",
       "      <td>Fangeudveksling er en sejr for Biden og Harris...</td>\n",
       "      <td>Joe Biden tog selv imod de frigivne fanger, da...</td>\n",
       "      <td>2024-08-02T14:47:00+00:00</td>\n",
       "    </tr>\n",
       "  </tbody>\n",
       "</table>\n",
       "</div>"
      ],
      "text/plain": [
       "                                               title  \\\n",
       "0  Skovbrand i Californien er tre gange så stor s...   \n",
       "1  Se billederne: Southport-protester har nået et...   \n",
       "2  Premierminister Starmer fordømmer uroligheder,...   \n",
       "3  Tre russere ville ønske, at Vesten ikke havde ...   \n",
       "4  Amerikansk forsvarsminister dropper aftaler me...   \n",
       "5  Løkke om hjælp til 33-årige dansker i russisk ...   \n",
       "6  Sjælden indrømmelse fra Kreml: Tre udvekslede ...   \n",
       "7  Engelske byer og moskeer skruer op for sikkerh...   \n",
       "8  Nyt studie: Norske vikinger var mere voldelige...   \n",
       "9  Fangeudveksling er en sejr for Biden og Harris...   \n",
       "\n",
       "                                                lead  \\\n",
       "0  Park Fire har slugt hundredvis af bygninger og...   \n",
       "1  En 17-årig dreng dræbte i mandags tre piger ti...   \n",
       "2  Der meldes om uroligheder i blandt andet Liver...   \n",
       "3  Tre russiske politiske fanger er kommet til Ty...   \n",
       "4  Retssagen mod den formodede hovedmand bag terr...   \n",
       "5  Udenrigsministeren understreger, at bistand fr...   \n",
       "6  To spioners børn vidste ikke, at de var russer...   \n",
       "7  Borgmesteren i Southport, hvor knivangrebet ba...   \n",
       "8  Skeletter fra vikinger fundet i Norge har fler...   \n",
       "9  Joe Biden tog selv imod de frigivne fanger, da...   \n",
       "\n",
       "                        time  \n",
       "0  2024-08-04T05:08:00+00:00  \n",
       "1  2024-08-04T05:03:00+00:00  \n",
       "2  2024-08-03T20:21:00+00:00  \n",
       "3  2024-08-03T16:39:00+00:00  \n",
       "4  2024-08-03T04:43:00+00:00  \n",
       "5  2024-08-02T18:25:00+00:00  \n",
       "6  2024-08-02T17:32:00+00:00  \n",
       "7  2024-08-02T16:44:00+00:00  \n",
       "8  2024-08-02T15:30:00+00:00  \n",
       "9  2024-08-02T14:47:00+00:00  "
      ]
     },
     "execution_count": 19,
     "metadata": {},
     "output_type": "execute_result"
    }
   ],
   "source": [
    "import pandas as pd\n",
    "df = pd.DataFrame({'title':title_list, 'lead':lead_list, 'time':time_list})\n",
    "df"
   ]
  },
  {
   "cell_type": "markdown",
   "metadata": {
    "slideshow": {
     "slide_type": "subslide"
    }
   },
   "source": [
    "#### One more thing:\n",
    "What if we also want the body text of an article?"
   ]
  },
  {
   "cell_type": "code",
   "execution_count": 20,
   "metadata": {
    "slideshow": {
     "slide_type": "fragment"
    }
   },
   "outputs": [],
   "source": [
    "url = 'https://www.dr.dk/nyheder/udland/gazprom-strammer-ifoelge-tyskland-skruen-uden-grund' \n",
    "response = requests.get(url)\n",
    "soup = BeautifulSoup(response.content,'lxml')"
   ]
  },
  {
   "cell_type": "code",
   "execution_count": 21,
   "metadata": {
    "scrolled": true,
    "slideshow": {
     "slide_type": "fragment"
    }
   },
   "outputs": [
    {
     "data": {
      "text/plain": [
       "<div class=\"dre-article-body\" itemprop=\"articleBody\"><div class=\"dre-container\"><div class=\"dre-container__content dre-container__content--small\"><div class=\"dre-speech\"><p class=\"dre-article-body-paragraph dre-variables\">Gazprom halverer gasleverancerne til Europa via Nord Stream 1. Årsagen er ifølge selskabet vedligehold af en gasturbine. Den daglige gasforsyning via gasledningen vil fra onsdag morgen blive reduceret til <a href=\"https://twitter.com/GazpromEN/status/1551582192484106246?ref_src=twsrc^tfw|twcamp^tweetembed|twterm^1551582192484106246|twgr^|twcon^s1_&amp;ref_url=https://www.ritzau.dk/nyhed/\" rel=\"noopener noreferrer\" target=\"_blank\">33 millioner kubikmeter, oplyser Gazprom</a>.</p></div><div class=\"dre-speech\"><p class=\"dre-article-body-paragraph dre-variables\">Det svarer til cirka 20 procent af den maksimale kapacitet, og det fremgår ikke, hvor længe den yderligt reducerede forsyning af gas vil stå på.</p></div></div></div><figure class=\"dre-article-body-figure dre-article-body-figure--medium dre-article-body-figure--spacing\"><div><div class=\"dre-picture\"><div class=\"dre-picture__ratio-padder dre-picture__ratio-padder--xxs\" style=\"--dre-picture__ratio--xxs:0.94084\"></div></div></div><figcaption class=\"dre-article-body-figure__caption dre-article-body-figure__caption--medium dre-article-body-figure__caption--left dre-variables\"></figcaption></figure><div class=\"dre-container\"><div class=\"dre-container__content dre-container__content--small\"><div class=\"dre-speech\"><p class=\"dre-article-body-paragraph dre-variables\">Den tyske regering anser den forklaringen om vedligeholdelse for at være opfundet til lejligheden.</p></div><div class=\"dre-speech\"><p class=\"dre-article-body-paragraph dre-variables\">- Ifølge vores oplysninger er der ingen teknisk grund til en reduktion i leverancerne, <a href=\"https://www.faz.net/aktuell/wirtschaft/gazprom-senkt-lieferung-durch-nord-stream-1-auf-20-prozent-18198169.html\" rel=\"noopener noreferrer\" target=\"_blank\">siger en talskvinde for Finansministeriet og minister Robert Habeck til Frankfurter Allgemeine Zeitung</a>.</p></div><div class=\"dre-speech\"><p class=\"dre-article-body-paragraph dre-variables\">Tyskerne får 25 procent af deres energi fra gas, hvor en overvejende del er kommet fra Rusland.</p></div><div class=\"dre-speech\"><h2 class=\"dre-article-body-sub-heading dre-variables\">Gasprisen stiger med 10 procent</h2></div><div class=\"dre-speech\"><p class=\"dre-article-body-paragraph dre-variables\">Det er anden gang indenfor en uge, at Gazprom reducerer leverancen af gas under påskud af reperation af gasturbiner. <a href=\"https://www.dr.dk/nyheder/udland/russisk-gas-flyder-igen-mod-europa-men-er-gaskrisen-afvaerget\" rel=\"noopener noreferrer\" target=\"_blank\">Da Gazprom efter ti dages vedligehold i sidste uge genåbnede for gasforsyningen til Tyskland</a>, var meldingen, at der dagligt ville blive leveret cirka 67 millioner kubikmeter.</p></div><div class=\"dre-speech\"><p class=\"dre-article-body-paragraph dre-variables\">Gazproms seneste melding betyder altså, at leverancerne til Europa bliver omtrent halveret fra onsdag. Gasledningen kan, når den kører for fuld kraft, levere cirka 167 millioner kubikmeter gas om dagen.</p></div></div></div><figure class=\"dre-article-body-figure dre-article-body-figure--large dre-article-body-figure--spacing\"><div><div class=\"dre-picture\"><div class=\"dre-picture__ratio-padder dre-picture__ratio-padder--xxs\" style=\"--dre-picture__ratio--xxs:0.54994\"></div></div></div><figcaption class=\"dre-article-body-figure__caption dre-article-body-figure__caption--large dre-variables\"><div class=\"dre-breakpoint dre-breakpoint--xxs dre-breakpoint--xs dre-breakpoint--sm dre-breakpoint--md dre-breakpoint--lg dre-breakpoint--xl\" style=\"--dre-breakpoint-display:initial\"><span class=\"dre-caption\">Nordstream 1-faciliter i Lubmin i Tyskland. (Arkiv) (Foto: © HANNIBAL HANSCHKE, Ritzau Scanpix)</span></div></figcaption></figure><div class=\"dre-container\"><div class=\"dre-container__content dre-container__content--small\"><div class=\"dre-speech\"><p class=\"dre-article-body-paragraph dre-variables\">Den ledende europæiske gaspris er mandag aften steget med op til ti procent efter udmeldingen fra Gazprom. Det er fjerde dag i træk, at gasprisen stiger, skriver finansmediet Marketwire ifølge Rtizau.</p></div><div class=\"dre-speech\"><p class=\"dre-article-body-paragraph dre-variables\">Nord Stream 1 transporterer normalt hvert år 55 milliarder kubikmeter gas fra Rusland til Tyskland under Østersøen. Det er nok til at forsyne cirka 26 millioner europæiske hjem.</p></div><div class=\"dre-speech\"><p class=\"dre-article-body-paragraph dre-variables\">Den tyske formand for det føderale agentur for digitalisering, klimaneutralitet og modstandsdygtighed, <a href=\"https://twitter.com/Klaus_Mueller/status/1551587487688040449\" rel=\"noopener noreferrer\" target=\"_blank\">Klaus Müller, bekræfter, at den nuværende levering halveres fra onsdag</a>.</p></div></div></div><figure class=\"dre-article-body-figure dre-article-body-figure--medium dre-article-body-figure--spacing\"><div><div class=\"dre-picture\"><div class=\"dre-picture__ratio-padder dre-picture__ratio-padder--xxs\" style=\"--dre-picture__ratio--xxs:0.41682\"></div></div></div><figcaption class=\"dre-article-body-figure__caption dre-article-body-figure__caption--medium dre-article-body-figure__caption--left dre-variables\"></figcaption></figure><div class=\"dre-container\"><div class=\"dre-container__content dre-container__content--small\"><div class=\"dre-speech\"><p class=\"dre-article-body-paragraph dre-variables\">Stormagter i Europa har anklaget Rusland for at bruge gas som et afpresningsmiddel over for Europa, fordi EU har indført sanktioner mod Rusland på grund af krigen i Ukraine. Ifølge Tyskland er der \"ingen tekniske grunde\" til den reducerede gasforsyning fra Nord Stream 1, som Gazprom ellers hævder.</p></div><div class=\"dre-speech\"><p class=\"dre-article-body-paragraph dre-variables\">380.000 danske husstande benytter <a href=\"https://ens.dk/presse/energistyrelsen-erklaerer-early-warning\" rel=\"noopener noreferrer\" target=\"_blank\">ifølge Energistyrelsen</a> naturgas til opvarmning via gasfyr. Det svarer til ca. 800.000 danskere.</p></div></div></div><figure class=\"dre-article-body-figure dre-article-body-figure--medium dre-article-body-figure--spacing\"><div><div class=\"dre-placeholder dre-placeholder--xxs dre-placeholder--xs dre-placeholder--sm dre-placeholder--md dre-placeholder--lg dre-placeholder--xl\" style=\"--dre-placeholder__height--xxs:calc(56.25vw - 2.5rem);--dre-placeholder__height--xs:calc(56.25vw - 2.5rem);--dre-placeholder__height--sm:21.796875rem;--dre-placeholder__height--md:29.8828125rem;--dre-placeholder__height--lg:29.8828125rem;--dre-placeholder__height--xl:29.8828125rem\"></div></div></figure><div class=\"dre-container\"><div class=\"dre-container__content dre-container__content--small\"><div class=\"dre-speech\"><h2 class=\"dre-article-body-sub-heading dre-variables\">Tyskerne vender sig tilbage mod kul</h2></div><div class=\"dre-speech\"><p class=\"dre-article-body-paragraph dre-variables\">Tyskland er blandt de europæiske lande, der er mest afhængig af den russiske gas. Men også flere andre europæiske lande, for eksempel Italien, er storforbrugere af gas, der kommer til Europa via Nord Stream 1.</p></div><div class=\"dre-speech\"><p class=\"dre-article-body-paragraph dre-variables\">Rusland er verdens største eksportør af naturgas. Europa importerer omkring 40 procent af sin gas fra Rusland gennem Tyskland, som sender den billige russiske gas videre til øvrige dele af Europa.</p></div><div class=\"dre-speech\"><p class=\"dre-article-body-paragraph dre-variables\">Nord Stream 1 er en 1.224 kilometer lang gasrørledning, som løber fra Rusland til Tyskland under Østersøen. Den har været i brug siden 2011.</p></div><div class=\"dre-speech\"><p class=\"dre-article-body-paragraph dre-variables\"><i>Gaskrisen har fået Tyskland til desperat at lede efter alternativer til gas til landets vigtige industri men også til private husholdninger. For eksempel ved at skifte over til den allermest forurenende energikilde. Nemlig kul. DR Nyheders korrespondent i Tyskland har været i Leipzig for at møde en kulhandler, der har kronede dage:</i></p></div></div></div><figure class=\"dre-article-body-figure dre-article-body-figure--medium dre-article-body-figure--spacing\"><div class=\"dre-video-player dre-variables\" itemscope=\"\" itemtype=\"https://schema.org/VideoObject\"><div class=\"dre-threshold-trigger dre-threshold-trigger--top dre-threshold-trigger--bottom\"></div><div class=\"dre-threshold-trigger dre-threshold-trigger--top dre-threshold-trigger--bottom\"></div><meta content=\"Gasforsyning via gasledningen Nordstream 1 til Europa bliver fra onsdag reduceret til 20 procent af den maksimale kapacitet.\" itemprop=\"description\"/><meta content=\"TVA 21.00 TYSKGAS\" itemprop=\"name\"/><meta content=\"https://asset.dr.dk/imagescaler/?protocol=https&amp;server=api.dr.dk&amp;file=%2Fodacache%2Fapi%2FPublication%2FImage%2Furn%3Adr%3Aod3%3Aclippublication%3A62ded0bb8953631844b3eb3c%3FimageId%3D133819&amp;scaleAfter=crop&amp;quality=70&amp;w=1200&amp;h=675\" itemprop=\"thumbnailUrl\"/><meta content=\"2022-07-25T18:55:00+00:00\" itemprop=\"uploadDate\"/><div><div class=\"dre-video-player__placeholder\"></div></div></div></figure><div class=\"dre-container\"><div class=\"dre-container__content dre-container__content--small\"><section class=\"dre-list dre-list--boxed dre-list--boxed-title dre-variables\" style=\"background-color:#f3f0ef\"><div class=\"dre-speech\"><h2 class=\"dre-list__title dre-list__title--boxed dre-list__title--boxed-title\">FAKTABOKS om Nord Stream 1</h2></div><ul class=\"dre-list__list dre-list__list--boxed dre-list__list--boxed-title\"><li class=\"dre-list-item\"><div class=\"dre-list-item__indicator\" style=\"color:#FF001E\">•</div><div class=\"dre-speech\"><span class=\"dre-list-item__content\"><p>Nord Stream 1 er 1224 kilometer lang og består af to gasrørledninger, som løber under Østersøen.</p></span></div></li><li class=\"dre-list-item\"><div class=\"dre-list-item__indicator\" style=\"color:#FF001E\">•</div><div class=\"dre-speech\"><span class=\"dre-list-item__content\"><p>De strækker sig fra Vyborg i Rusland til Lubmin i det nordøstlige Tyskland. Derfra transporteres gassen videre til øvrige dele af Europa.</p></span></div></li><li class=\"dre-list-item\"><div class=\"dre-list-item__indicator\" style=\"color:#FF001E\">•</div><div class=\"dre-speech\"><span class=\"dre-list-item__content\"><p>Den har været i brug siden 2011 og har dermed i over et årti - indtil Ruslands krig mod Ukraine - været en pålidelig kilde til gas til Europa.</p></span></div></li><li class=\"dre-list-item\"><div class=\"dre-list-item__indicator\" style=\"color:#FF001E\">•</div><div class=\"dre-speech\"><span class=\"dre-list-item__content\"><p>Den kan transportere 55 milliarder kubikmeter gas om året til Europa. Det er nok til at forsyne cirka 26 millioner europæiske hjem. Dermed er den særdeles vigtig for gasforsyningen til Europa.</p></span></div></li><li class=\"dre-list-item\"><div class=\"dre-list-item__indicator\" style=\"color:#FF001E\">•</div><div class=\"dre-speech\"><span class=\"dre-list-item__content\"><p>Ruslands statsejede gasselskab Gazprom ejer 51 procent af Nord Stream 1. Tysklands EON og Wintershall Dea, hollandske Gasunie og Frankrigs Engie er også aktionærer.</p></span></div></li><li class=\"dre-list-item\"><div class=\"dre-list-item__indicator\" style=\"color:#FF001E\">•</div><div class=\"dre-speech\"><span class=\"dre-list-item__content\"><p>Projektet er længe blevet set som en model for økonomisk samarbejde mellem Rusland og EU, hvor lande som Tyskland og Italien er blevet stærkt afhængige af den billige russiske gas.</p></span></div></li><li class=\"dre-list-item\"><div class=\"dre-list-item__indicator\" style=\"color:#FF001E\">•</div><div class=\"dre-speech\"><span class=\"dre-list-item__content\"><p>Rusland er verdens største eksportør af naturgas. Europa importerer omkring 40 procent af sin gas fra Rusland.</p></span></div></li><li class=\"dre-list-item\"><div class=\"dre-list-item__indicator\" style=\"color:#FF001E\">•</div><div class=\"dre-speech\"><span class=\"dre-list-item__content\"><p><i>Kilder: AFP og Reuters af /ritzau/</i></p></span></div></li></ul></section></div></div></div>"
      ]
     },
     "execution_count": 21,
     "metadata": {},
     "output_type": "execute_result"
    }
   ],
   "source": [
    "# We locate the body of the article:\n",
    "body = soup.find('div', class_ = 'dre-article-body')\n",
    "body"
   ]
  },
  {
   "cell_type": "markdown",
   "metadata": {
    "slideshow": {
     "slide_type": "subslide"
    }
   },
   "source": [
    "This body consists of both sections with text and figures. We want it all.\n",
    "\n",
    "But sections and figures have different tags, so we cannot just use `find_all` to find all elements in the body.\n",
    "\n",
    "Instead we can use [`.children`](https://www.crummy.com/software/BeautifulSoup/bs4/doc/#contents-and-children). It finds all children of the element body:"
   ]
  },
  {
   "cell_type": "code",
   "execution_count": 22,
   "metadata": {
    "slideshow": {
     "slide_type": "fragment"
    }
   },
   "outputs": [],
   "source": [
    "body_text = []\n",
    "for child in body.children:\n",
    "    body_text.append(child.text)"
   ]
  },
  {
   "cell_type": "code",
   "execution_count": 23,
   "metadata": {
    "scrolled": true,
    "slideshow": {
     "slide_type": "fragment"
    }
   },
   "outputs": [
    {
     "data": {
      "text/plain": [
       "['Gazprom halverer gasleverancerne til Europa via Nord Stream 1. Årsagen er ifølge selskabet vedligehold af en gasturbine. Den daglige gasforsyning via gasledningen vil fra onsdag morgen blive reduceret til 33 millioner kubikmeter, oplyser Gazprom.Det svarer til cirka 20 procent af den maksimale kapacitet, og det fremgår ikke, hvor længe den yderligt reducerede forsyning af gas vil stå på.',\n",
       " '',\n",
       " 'Den tyske regering anser den forklaringen om vedligeholdelse for at være opfundet til lejligheden.- Ifølge vores oplysninger er der ingen teknisk grund til en reduktion i leverancerne, siger en talskvinde for Finansministeriet og minister Robert Habeck til Frankfurter Allgemeine Zeitung.Tyskerne får 25 procent af deres energi fra gas, hvor en overvejende del er kommet fra Rusland.Gasprisen stiger med 10 procentDet er anden gang indenfor en uge, at Gazprom reducerer leverancen af gas under påskud af reperation af gasturbiner. Da Gazprom efter ti dages vedligehold i sidste uge genåbnede for gasforsyningen til Tyskland, var meldingen, at der dagligt ville blive leveret cirka 67 millioner kubikmeter.Gazproms seneste melding betyder altså, at leverancerne til Europa bliver omtrent halveret fra onsdag. Gasledningen kan, når den kører for fuld kraft, levere cirka 167 millioner kubikmeter gas om dagen.',\n",
       " 'Nordstream 1-faciliter i Lubmin i Tyskland. (Arkiv) (Foto:\\xa0©\\xa0HANNIBAL HANSCHKE, Ritzau Scanpix)',\n",
       " 'Den ledende europæiske gaspris er mandag aften steget med op til ti procent efter udmeldingen fra Gazprom. Det er fjerde dag i træk, at gasprisen stiger, skriver finansmediet Marketwire ifølge Rtizau.Nord Stream 1 transporterer normalt hvert år 55 milliarder kubikmeter gas fra Rusland til Tyskland under Østersøen. Det er nok til at forsyne cirka 26 millioner europæiske hjem.Den tyske formand for det føderale agentur for digitalisering, klimaneutralitet og modstandsdygtighed, Klaus Müller, bekræfter, at den nuværende levering halveres fra onsdag.',\n",
       " '',\n",
       " 'Stormagter i Europa har anklaget Rusland for at bruge gas som et afpresningsmiddel over for Europa, fordi EU har indført sanktioner mod Rusland på grund af krigen i Ukraine. Ifølge Tyskland er der \"ingen tekniske grunde\" til den reducerede gasforsyning fra Nord Stream 1, som Gazprom ellers hævder.380.000 danske husstande benytter ifølge Energistyrelsen naturgas til opvarmning via gasfyr. Det svarer til ca. 800.000 danskere.',\n",
       " '',\n",
       " 'Tyskerne vender sig tilbage mod kulTyskland er blandt de europæiske lande, der er mest afhængig af den russiske gas. Men også flere andre europæiske lande, for eksempel Italien, er storforbrugere af gas, der kommer til Europa via Nord Stream 1.Rusland er verdens største eksportør af naturgas. Europa importerer omkring 40 procent af sin gas fra Rusland gennem Tyskland, som sender den billige russiske gas videre til øvrige dele af Europa.Nord Stream 1 er en 1.224 kilometer lang gasrørledning, som løber fra Rusland til Tyskland under Østersøen. Den har været i brug siden 2011.Gaskrisen har fået Tyskland til desperat at lede efter alternativer til gas til landets vigtige industri men også til private husholdninger. For eksempel ved at skifte over til den allermest forurenende energikilde. Nemlig kul. DR Nyheders korrespondent i Tyskland har været i Leipzig for at møde en kulhandler, der har kronede dage:',\n",
       " '',\n",
       " 'FAKTABOKS om Nord Stream 1•Nord Stream 1 er 1224 kilometer lang og består af to gasrørledninger, som løber under Østersøen.•De strækker sig fra Vyborg i Rusland til Lubmin i det nordøstlige Tyskland. Derfra transporteres gassen videre til øvrige dele af Europa.•Den har været i brug siden 2011 og har dermed i over et årti - indtil Ruslands krig mod Ukraine - været en pålidelig kilde til gas til Europa.•Den kan transportere 55 milliarder kubikmeter gas om året til Europa. Det er nok til at forsyne cirka 26 millioner europæiske hjem. Dermed er den særdeles vigtig for gasforsyningen til Europa.•Ruslands statsejede gasselskab Gazprom ejer 51 procent af Nord Stream 1. Tysklands EON og Wintershall Dea, hollandske Gasunie og Frankrigs Engie er også aktionærer.•Projektet er længe blevet set som en model for økonomisk samarbejde mellem Rusland og EU, hvor lande som Tyskland og Italien er blevet stærkt afhængige af den billige russiske gas.•Rusland er verdens største eksportør af naturgas. Europa importerer omkring 40 procent af sin gas fra Rusland.•Kilder: AFP og Reuters af /ritzau/']"
      ]
     },
     "execution_count": 23,
     "metadata": {},
     "output_type": "execute_result"
    }
   ],
   "source": [
    "body_text"
   ]
  },
  {
   "cell_type": "markdown",
   "metadata": {
    "slideshow": {
     "slide_type": "subslide"
    }
   },
   "source": [
    "Note: We have used `.text` to get the text of the HTML. The figure elements do not contain any text, so they will just be empty. \n",
    "\n",
    "We can use `.join()` to join all the strings in the list. Just join it on an empty string:"
   ]
  },
  {
   "cell_type": "code",
   "execution_count": 24,
   "metadata": {
    "scrolled": true,
    "slideshow": {
     "slide_type": "fragment"
    }
   },
   "outputs": [
    {
     "data": {
      "text/plain": [
       "'Gazprom halverer gasleverancerne til Europa via Nord Stream 1. Årsagen er ifølge selskabet vedligehold af en gasturbine. Den daglige gasforsyning via gasledningen vil fra onsdag morgen blive reduceret til 33 millioner kubikmeter, oplyser Gazprom.Det svarer til cirka 20 procent af den maksimale kapacitet, og det fremgår ikke, hvor længe den yderligt reducerede forsyning af gas vil stå på.Den tyske regering anser den forklaringen om vedligeholdelse for at være opfundet til lejligheden.- Ifølge vores oplysninger er der ingen teknisk grund til en reduktion i leverancerne, siger en talskvinde for Finansministeriet og minister Robert Habeck til Frankfurter Allgemeine Zeitung.Tyskerne får 25 procent af deres energi fra gas, hvor en overvejende del er kommet fra Rusland.Gasprisen stiger med 10 procentDet er anden gang indenfor en uge, at Gazprom reducerer leverancen af gas under påskud af reperation af gasturbiner. Da Gazprom efter ti dages vedligehold i sidste uge genåbnede for gasforsyningen til Tyskland, var meldingen, at der dagligt ville blive leveret cirka 67 millioner kubikmeter.Gazproms seneste melding betyder altså, at leverancerne til Europa bliver omtrent halveret fra onsdag. Gasledningen kan, når den kører for fuld kraft, levere cirka 167 millioner kubikmeter gas om dagen.Nordstream 1-faciliter i Lubmin i Tyskland. (Arkiv) (Foto:\\xa0©\\xa0HANNIBAL HANSCHKE, Ritzau Scanpix)Den ledende europæiske gaspris er mandag aften steget med op til ti procent efter udmeldingen fra Gazprom. Det er fjerde dag i træk, at gasprisen stiger, skriver finansmediet Marketwire ifølge Rtizau.Nord Stream 1 transporterer normalt hvert år 55 milliarder kubikmeter gas fra Rusland til Tyskland under Østersøen. Det er nok til at forsyne cirka 26 millioner europæiske hjem.Den tyske formand for det føderale agentur for digitalisering, klimaneutralitet og modstandsdygtighed, Klaus Müller, bekræfter, at den nuværende levering halveres fra onsdag.Stormagter i Europa har anklaget Rusland for at bruge gas som et afpresningsmiddel over for Europa, fordi EU har indført sanktioner mod Rusland på grund af krigen i Ukraine. Ifølge Tyskland er der \"ingen tekniske grunde\" til den reducerede gasforsyning fra Nord Stream 1, som Gazprom ellers hævder.380.000 danske husstande benytter ifølge Energistyrelsen naturgas til opvarmning via gasfyr. Det svarer til ca. 800.000 danskere.Tyskerne vender sig tilbage mod kulTyskland er blandt de europæiske lande, der er mest afhængig af den russiske gas. Men også flere andre europæiske lande, for eksempel Italien, er storforbrugere af gas, der kommer til Europa via Nord Stream 1.Rusland er verdens største eksportør af naturgas. Europa importerer omkring 40 procent af sin gas fra Rusland gennem Tyskland, som sender den billige russiske gas videre til øvrige dele af Europa.Nord Stream 1 er en 1.224 kilometer lang gasrørledning, som løber fra Rusland til Tyskland under Østersøen. Den har været i brug siden 2011.Gaskrisen har fået Tyskland til desperat at lede efter alternativer til gas til landets vigtige industri men også til private husholdninger. For eksempel ved at skifte over til den allermest forurenende energikilde. Nemlig kul. DR Nyheders korrespondent i Tyskland har været i Leipzig for at møde en kulhandler, der har kronede dage:FAKTABOKS om Nord Stream 1•Nord Stream 1 er 1224 kilometer lang og består af to gasrørledninger, som løber under Østersøen.•De strækker sig fra Vyborg i Rusland til Lubmin i det nordøstlige Tyskland. Derfra transporteres gassen videre til øvrige dele af Europa.•Den har været i brug siden 2011 og har dermed i over et årti - indtil Ruslands krig mod Ukraine - været en pålidelig kilde til gas til Europa.•Den kan transportere 55 milliarder kubikmeter gas om året til Europa. Det er nok til at forsyne cirka 26 millioner europæiske hjem. Dermed er den særdeles vigtig for gasforsyningen til Europa.•Ruslands statsejede gasselskab Gazprom ejer 51 procent af Nord Stream 1. Tysklands EON og Wintershall Dea, hollandske Gasunie og Frankrigs Engie er også aktionærer.•Projektet er længe blevet set som en model for økonomisk samarbejde mellem Rusland og EU, hvor lande som Tyskland og Italien er blevet stærkt afhængige af den billige russiske gas.•Rusland er verdens største eksportør af naturgas. Europa importerer omkring 40 procent af sin gas fra Rusland.•Kilder: AFP og Reuters af /ritzau/'"
      ]
     },
     "execution_count": 24,
     "metadata": {},
     "output_type": "execute_result"
    }
   ],
   "source": [
    "''.join(body_text)"
   ]
  }
 ],
 "metadata": {
  "celltoolbar": "Slideshow",
  "kernelspec": {
   "display_name": "Python 3 (ipykernel)",
   "language": "python",
   "name": "python3"
  },
  "language_info": {
   "codemirror_mode": {
    "name": "ipython",
    "version": 3
   },
   "file_extension": ".py",
   "mimetype": "text/x-python",
   "name": "python",
   "nbconvert_exporter": "python",
   "pygments_lexer": "ipython3",
   "version": "3.9.12"
  },
  "latex_envs": {
   "bibliofile": "biblio.bib",
   "cite_by": "apalike",
   "current_citInitial": 1,
   "eqLabelWithNumbers": true,
   "eqNumInitial": 0
  },
  "toc": {
   "nav_menu": {
    "height": "328px",
    "width": "252px"
   },
   "navigate_menu": true,
   "number_sections": true,
   "sideBar": true,
   "threshold": 4,
   "toc_cell": false,
   "toc_section_display": "block",
   "toc_window_display": false
  }
 },
 "nbformat": 4,
 "nbformat_minor": 4
}
